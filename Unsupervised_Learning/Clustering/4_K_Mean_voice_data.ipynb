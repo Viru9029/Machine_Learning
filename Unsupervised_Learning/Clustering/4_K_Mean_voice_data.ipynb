{
 "cells": [
  {
   "cell_type": "code",
   "execution_count": 1,
   "id": "a74833eb",
   "metadata": {},
   "outputs": [],
   "source": [
    "import numpy as np\n",
    "import pandas as pd\n",
    "import matplotlib.pyplot as plt\n",
    "import scipy as sc\n",
    "import seaborn as sns"
   ]
  },
  {
   "cell_type": "code",
   "execution_count": 2,
   "id": "49c60606",
   "metadata": {},
   "outputs": [],
   "source": [
    "df = pd.read_csv('Live.csv')"
   ]
  },
  {
   "cell_type": "code",
   "execution_count": 3,
   "id": "74798194",
   "metadata": {},
   "outputs": [
    {
     "data": {
      "text/html": [
       "<div>\n",
       "<style scoped>\n",
       "    .dataframe tbody tr th:only-of-type {\n",
       "        vertical-align: middle;\n",
       "    }\n",
       "\n",
       "    .dataframe tbody tr th {\n",
       "        vertical-align: top;\n",
       "    }\n",
       "\n",
       "    .dataframe thead th {\n",
       "        text-align: right;\n",
       "    }\n",
       "</style>\n",
       "<table border=\"1\" class=\"dataframe\">\n",
       "  <thead>\n",
       "    <tr style=\"text-align: right;\">\n",
       "      <th></th>\n",
       "      <th>status_id</th>\n",
       "      <th>status_type</th>\n",
       "      <th>status_published</th>\n",
       "      <th>num_reactions</th>\n",
       "      <th>num_comments</th>\n",
       "      <th>num_shares</th>\n",
       "      <th>num_likes</th>\n",
       "      <th>num_loves</th>\n",
       "      <th>num_wows</th>\n",
       "      <th>num_hahas</th>\n",
       "      <th>num_sads</th>\n",
       "      <th>num_angrys</th>\n",
       "      <th>Column1</th>\n",
       "      <th>Column2</th>\n",
       "      <th>Column3</th>\n",
       "      <th>Column4</th>\n",
       "    </tr>\n",
       "  </thead>\n",
       "  <tbody>\n",
       "    <tr>\n",
       "      <th>0</th>\n",
       "      <td>246675545449582_1649696485147474</td>\n",
       "      <td>video</td>\n",
       "      <td>4/22/2018 6:00</td>\n",
       "      <td>529</td>\n",
       "      <td>512</td>\n",
       "      <td>262</td>\n",
       "      <td>432</td>\n",
       "      <td>92</td>\n",
       "      <td>3</td>\n",
       "      <td>1</td>\n",
       "      <td>1</td>\n",
       "      <td>0</td>\n",
       "      <td>NaN</td>\n",
       "      <td>NaN</td>\n",
       "      <td>NaN</td>\n",
       "      <td>NaN</td>\n",
       "    </tr>\n",
       "    <tr>\n",
       "      <th>1</th>\n",
       "      <td>246675545449582_1649426988507757</td>\n",
       "      <td>photo</td>\n",
       "      <td>4/21/2018 22:45</td>\n",
       "      <td>150</td>\n",
       "      <td>0</td>\n",
       "      <td>0</td>\n",
       "      <td>150</td>\n",
       "      <td>0</td>\n",
       "      <td>0</td>\n",
       "      <td>0</td>\n",
       "      <td>0</td>\n",
       "      <td>0</td>\n",
       "      <td>NaN</td>\n",
       "      <td>NaN</td>\n",
       "      <td>NaN</td>\n",
       "      <td>NaN</td>\n",
       "    </tr>\n",
       "    <tr>\n",
       "      <th>2</th>\n",
       "      <td>246675545449582_1648730588577397</td>\n",
       "      <td>video</td>\n",
       "      <td>4/21/2018 6:17</td>\n",
       "      <td>227</td>\n",
       "      <td>236</td>\n",
       "      <td>57</td>\n",
       "      <td>204</td>\n",
       "      <td>21</td>\n",
       "      <td>1</td>\n",
       "      <td>1</td>\n",
       "      <td>0</td>\n",
       "      <td>0</td>\n",
       "      <td>NaN</td>\n",
       "      <td>NaN</td>\n",
       "      <td>NaN</td>\n",
       "      <td>NaN</td>\n",
       "    </tr>\n",
       "    <tr>\n",
       "      <th>3</th>\n",
       "      <td>246675545449582_1648576705259452</td>\n",
       "      <td>photo</td>\n",
       "      <td>4/21/2018 2:29</td>\n",
       "      <td>111</td>\n",
       "      <td>0</td>\n",
       "      <td>0</td>\n",
       "      <td>111</td>\n",
       "      <td>0</td>\n",
       "      <td>0</td>\n",
       "      <td>0</td>\n",
       "      <td>0</td>\n",
       "      <td>0</td>\n",
       "      <td>NaN</td>\n",
       "      <td>NaN</td>\n",
       "      <td>NaN</td>\n",
       "      <td>NaN</td>\n",
       "    </tr>\n",
       "    <tr>\n",
       "      <th>4</th>\n",
       "      <td>246675545449582_1645700502213739</td>\n",
       "      <td>photo</td>\n",
       "      <td>4/18/2018 3:22</td>\n",
       "      <td>213</td>\n",
       "      <td>0</td>\n",
       "      <td>0</td>\n",
       "      <td>204</td>\n",
       "      <td>9</td>\n",
       "      <td>0</td>\n",
       "      <td>0</td>\n",
       "      <td>0</td>\n",
       "      <td>0</td>\n",
       "      <td>NaN</td>\n",
       "      <td>NaN</td>\n",
       "      <td>NaN</td>\n",
       "      <td>NaN</td>\n",
       "    </tr>\n",
       "  </tbody>\n",
       "</table>\n",
       "</div>"
      ],
      "text/plain": [
       "                          status_id status_type status_published  \\\n",
       "0  246675545449582_1649696485147474       video   4/22/2018 6:00   \n",
       "1  246675545449582_1649426988507757       photo  4/21/2018 22:45   \n",
       "2  246675545449582_1648730588577397       video   4/21/2018 6:17   \n",
       "3  246675545449582_1648576705259452       photo   4/21/2018 2:29   \n",
       "4  246675545449582_1645700502213739       photo   4/18/2018 3:22   \n",
       "\n",
       "   num_reactions  num_comments  num_shares  num_likes  num_loves  num_wows  \\\n",
       "0            529           512         262        432         92         3   \n",
       "1            150             0           0        150          0         0   \n",
       "2            227           236          57        204         21         1   \n",
       "3            111             0           0        111          0         0   \n",
       "4            213             0           0        204          9         0   \n",
       "\n",
       "   num_hahas  num_sads  num_angrys  Column1  Column2  Column3  Column4  \n",
       "0          1         1           0      NaN      NaN      NaN      NaN  \n",
       "1          0         0           0      NaN      NaN      NaN      NaN  \n",
       "2          1         0           0      NaN      NaN      NaN      NaN  \n",
       "3          0         0           0      NaN      NaN      NaN      NaN  \n",
       "4          0         0           0      NaN      NaN      NaN      NaN  "
      ]
     },
     "execution_count": 3,
     "metadata": {},
     "output_type": "execute_result"
    }
   ],
   "source": [
    "df.head()"
   ]
  },
  {
   "cell_type": "code",
   "execution_count": 4,
   "id": "cce7d37a",
   "metadata": {},
   "outputs": [
    {
     "data": {
      "text/html": [
       "<div>\n",
       "<style scoped>\n",
       "    .dataframe tbody tr th:only-of-type {\n",
       "        vertical-align: middle;\n",
       "    }\n",
       "\n",
       "    .dataframe tbody tr th {\n",
       "        vertical-align: top;\n",
       "    }\n",
       "\n",
       "    .dataframe thead th {\n",
       "        text-align: right;\n",
       "    }\n",
       "</style>\n",
       "<table border=\"1\" class=\"dataframe\">\n",
       "  <thead>\n",
       "    <tr style=\"text-align: right;\">\n",
       "      <th></th>\n",
       "      <th>status_id</th>\n",
       "      <th>status_type</th>\n",
       "      <th>status_published</th>\n",
       "      <th>num_reactions</th>\n",
       "      <th>num_comments</th>\n",
       "      <th>num_shares</th>\n",
       "      <th>num_likes</th>\n",
       "      <th>num_loves</th>\n",
       "      <th>num_wows</th>\n",
       "      <th>num_hahas</th>\n",
       "      <th>num_sads</th>\n",
       "      <th>num_angrys</th>\n",
       "      <th>Column1</th>\n",
       "      <th>Column2</th>\n",
       "      <th>Column3</th>\n",
       "      <th>Column4</th>\n",
       "    </tr>\n",
       "  </thead>\n",
       "  <tbody>\n",
       "    <tr>\n",
       "      <th>7045</th>\n",
       "      <td>1050855161656896_1061863470556065</td>\n",
       "      <td>photo</td>\n",
       "      <td>9/24/2016 2:58</td>\n",
       "      <td>89</td>\n",
       "      <td>0</td>\n",
       "      <td>0</td>\n",
       "      <td>89</td>\n",
       "      <td>0</td>\n",
       "      <td>0</td>\n",
       "      <td>0</td>\n",
       "      <td>0</td>\n",
       "      <td>0</td>\n",
       "      <td>NaN</td>\n",
       "      <td>NaN</td>\n",
       "      <td>NaN</td>\n",
       "      <td>NaN</td>\n",
       "    </tr>\n",
       "    <tr>\n",
       "      <th>7046</th>\n",
       "      <td>1050855161656896_1061334757275603</td>\n",
       "      <td>photo</td>\n",
       "      <td>9/23/2016 11:19</td>\n",
       "      <td>16</td>\n",
       "      <td>0</td>\n",
       "      <td>0</td>\n",
       "      <td>14</td>\n",
       "      <td>1</td>\n",
       "      <td>0</td>\n",
       "      <td>1</td>\n",
       "      <td>0</td>\n",
       "      <td>0</td>\n",
       "      <td>NaN</td>\n",
       "      <td>NaN</td>\n",
       "      <td>NaN</td>\n",
       "      <td>NaN</td>\n",
       "    </tr>\n",
       "    <tr>\n",
       "      <th>7047</th>\n",
       "      <td>1050855161656896_1060126464063099</td>\n",
       "      <td>photo</td>\n",
       "      <td>9/21/2016 23:03</td>\n",
       "      <td>2</td>\n",
       "      <td>0</td>\n",
       "      <td>0</td>\n",
       "      <td>1</td>\n",
       "      <td>1</td>\n",
       "      <td>0</td>\n",
       "      <td>0</td>\n",
       "      <td>0</td>\n",
       "      <td>0</td>\n",
       "      <td>NaN</td>\n",
       "      <td>NaN</td>\n",
       "      <td>NaN</td>\n",
       "      <td>NaN</td>\n",
       "    </tr>\n",
       "    <tr>\n",
       "      <th>7048</th>\n",
       "      <td>1050855161656896_1058663487542730</td>\n",
       "      <td>photo</td>\n",
       "      <td>9/20/2016 0:43</td>\n",
       "      <td>351</td>\n",
       "      <td>12</td>\n",
       "      <td>22</td>\n",
       "      <td>349</td>\n",
       "      <td>2</td>\n",
       "      <td>0</td>\n",
       "      <td>0</td>\n",
       "      <td>0</td>\n",
       "      <td>0</td>\n",
       "      <td>NaN</td>\n",
       "      <td>NaN</td>\n",
       "      <td>NaN</td>\n",
       "      <td>NaN</td>\n",
       "    </tr>\n",
       "    <tr>\n",
       "      <th>7049</th>\n",
       "      <td>1050855161656896_1050858841656528</td>\n",
       "      <td>photo</td>\n",
       "      <td>9/10/2016 10:30</td>\n",
       "      <td>17</td>\n",
       "      <td>0</td>\n",
       "      <td>0</td>\n",
       "      <td>17</td>\n",
       "      <td>0</td>\n",
       "      <td>0</td>\n",
       "      <td>0</td>\n",
       "      <td>0</td>\n",
       "      <td>0</td>\n",
       "      <td>NaN</td>\n",
       "      <td>NaN</td>\n",
       "      <td>NaN</td>\n",
       "      <td>NaN</td>\n",
       "    </tr>\n",
       "  </tbody>\n",
       "</table>\n",
       "</div>"
      ],
      "text/plain": [
       "                              status_id status_type status_published  \\\n",
       "7045  1050855161656896_1061863470556065       photo   9/24/2016 2:58   \n",
       "7046  1050855161656896_1061334757275603       photo  9/23/2016 11:19   \n",
       "7047  1050855161656896_1060126464063099       photo  9/21/2016 23:03   \n",
       "7048  1050855161656896_1058663487542730       photo   9/20/2016 0:43   \n",
       "7049  1050855161656896_1050858841656528       photo  9/10/2016 10:30   \n",
       "\n",
       "      num_reactions  num_comments  num_shares  num_likes  num_loves  num_wows  \\\n",
       "7045             89             0           0         89          0         0   \n",
       "7046             16             0           0         14          1         0   \n",
       "7047              2             0           0          1          1         0   \n",
       "7048            351            12          22        349          2         0   \n",
       "7049             17             0           0         17          0         0   \n",
       "\n",
       "      num_hahas  num_sads  num_angrys  Column1  Column2  Column3  Column4  \n",
       "7045          0         0           0      NaN      NaN      NaN      NaN  \n",
       "7046          1         0           0      NaN      NaN      NaN      NaN  \n",
       "7047          0         0           0      NaN      NaN      NaN      NaN  \n",
       "7048          0         0           0      NaN      NaN      NaN      NaN  \n",
       "7049          0         0           0      NaN      NaN      NaN      NaN  "
      ]
     },
     "execution_count": 4,
     "metadata": {},
     "output_type": "execute_result"
    }
   ],
   "source": [
    "df.tail()"
   ]
  },
  {
   "cell_type": "code",
   "execution_count": 5,
   "id": "4eea730e",
   "metadata": {},
   "outputs": [
    {
     "data": {
      "text/plain": [
       "(7050, 16)"
      ]
     },
     "execution_count": 5,
     "metadata": {},
     "output_type": "execute_result"
    }
   ],
   "source": [
    "df.shape"
   ]
  },
  {
   "cell_type": "code",
   "execution_count": 6,
   "id": "75ea6160",
   "metadata": {},
   "outputs": [
    {
     "data": {
      "text/plain": [
       "status_id              0\n",
       "status_type            0\n",
       "status_published       0\n",
       "num_reactions          0\n",
       "num_comments           0\n",
       "num_shares             0\n",
       "num_likes              0\n",
       "num_loves              0\n",
       "num_wows               0\n",
       "num_hahas              0\n",
       "num_sads               0\n",
       "num_angrys             0\n",
       "Column1             7050\n",
       "Column2             7050\n",
       "Column3             7050\n",
       "Column4             7050\n",
       "dtype: int64"
      ]
     },
     "execution_count": 6,
     "metadata": {},
     "output_type": "execute_result"
    }
   ],
   "source": [
    "df.isnull().sum()"
   ]
  },
  {
   "cell_type": "code",
   "execution_count": 7,
   "id": "0b93436b",
   "metadata": {},
   "outputs": [
    {
     "data": {
      "text/plain": [
       "array([nan])"
      ]
     },
     "execution_count": 7,
     "metadata": {},
     "output_type": "execute_result"
    }
   ],
   "source": [
    "df['Column1'].unique()"
   ]
  },
  {
   "cell_type": "code",
   "execution_count": 8,
   "id": "d0fb1e82",
   "metadata": {},
   "outputs": [
    {
     "data": {
      "text/plain": [
       "array([nan])"
      ]
     },
     "execution_count": 8,
     "metadata": {},
     "output_type": "execute_result"
    }
   ],
   "source": [
    "df['Column2'].unique()"
   ]
  },
  {
   "cell_type": "code",
   "execution_count": 9,
   "id": "c2df4ebc",
   "metadata": {},
   "outputs": [
    {
     "data": {
      "text/plain": [
       "array([nan])"
      ]
     },
     "execution_count": 9,
     "metadata": {},
     "output_type": "execute_result"
    }
   ],
   "source": [
    "df['Column3'].unique()"
   ]
  },
  {
   "cell_type": "code",
   "execution_count": 10,
   "id": "c7fa8476",
   "metadata": {},
   "outputs": [
    {
     "data": {
      "text/plain": [
       "array([nan])"
      ]
     },
     "execution_count": 10,
     "metadata": {},
     "output_type": "execute_result"
    }
   ],
   "source": [
    "df['Column4'].unique()"
   ]
  },
  {
   "cell_type": "code",
   "execution_count": 11,
   "id": "3638babc",
   "metadata": {},
   "outputs": [],
   "source": [
    "df.drop(['Column1','Column2','Column3','Column4'],axis=1,inplace=True)"
   ]
  },
  {
   "cell_type": "code",
   "execution_count": 12,
   "id": "5f4adddf",
   "metadata": {},
   "outputs": [
    {
     "data": {
      "text/html": [
       "<div>\n",
       "<style scoped>\n",
       "    .dataframe tbody tr th:only-of-type {\n",
       "        vertical-align: middle;\n",
       "    }\n",
       "\n",
       "    .dataframe tbody tr th {\n",
       "        vertical-align: top;\n",
       "    }\n",
       "\n",
       "    .dataframe thead th {\n",
       "        text-align: right;\n",
       "    }\n",
       "</style>\n",
       "<table border=\"1\" class=\"dataframe\">\n",
       "  <thead>\n",
       "    <tr style=\"text-align: right;\">\n",
       "      <th></th>\n",
       "      <th>status_id</th>\n",
       "      <th>status_type</th>\n",
       "      <th>status_published</th>\n",
       "      <th>num_reactions</th>\n",
       "      <th>num_comments</th>\n",
       "      <th>num_shares</th>\n",
       "      <th>num_likes</th>\n",
       "      <th>num_loves</th>\n",
       "      <th>num_wows</th>\n",
       "      <th>num_hahas</th>\n",
       "      <th>num_sads</th>\n",
       "      <th>num_angrys</th>\n",
       "    </tr>\n",
       "  </thead>\n",
       "  <tbody>\n",
       "    <tr>\n",
       "      <th>0</th>\n",
       "      <td>246675545449582_1649696485147474</td>\n",
       "      <td>video</td>\n",
       "      <td>4/22/2018 6:00</td>\n",
       "      <td>529</td>\n",
       "      <td>512</td>\n",
       "      <td>262</td>\n",
       "      <td>432</td>\n",
       "      <td>92</td>\n",
       "      <td>3</td>\n",
       "      <td>1</td>\n",
       "      <td>1</td>\n",
       "      <td>0</td>\n",
       "    </tr>\n",
       "    <tr>\n",
       "      <th>1</th>\n",
       "      <td>246675545449582_1649426988507757</td>\n",
       "      <td>photo</td>\n",
       "      <td>4/21/2018 22:45</td>\n",
       "      <td>150</td>\n",
       "      <td>0</td>\n",
       "      <td>0</td>\n",
       "      <td>150</td>\n",
       "      <td>0</td>\n",
       "      <td>0</td>\n",
       "      <td>0</td>\n",
       "      <td>0</td>\n",
       "      <td>0</td>\n",
       "    </tr>\n",
       "    <tr>\n",
       "      <th>2</th>\n",
       "      <td>246675545449582_1648730588577397</td>\n",
       "      <td>video</td>\n",
       "      <td>4/21/2018 6:17</td>\n",
       "      <td>227</td>\n",
       "      <td>236</td>\n",
       "      <td>57</td>\n",
       "      <td>204</td>\n",
       "      <td>21</td>\n",
       "      <td>1</td>\n",
       "      <td>1</td>\n",
       "      <td>0</td>\n",
       "      <td>0</td>\n",
       "    </tr>\n",
       "    <tr>\n",
       "      <th>3</th>\n",
       "      <td>246675545449582_1648576705259452</td>\n",
       "      <td>photo</td>\n",
       "      <td>4/21/2018 2:29</td>\n",
       "      <td>111</td>\n",
       "      <td>0</td>\n",
       "      <td>0</td>\n",
       "      <td>111</td>\n",
       "      <td>0</td>\n",
       "      <td>0</td>\n",
       "      <td>0</td>\n",
       "      <td>0</td>\n",
       "      <td>0</td>\n",
       "    </tr>\n",
       "    <tr>\n",
       "      <th>4</th>\n",
       "      <td>246675545449582_1645700502213739</td>\n",
       "      <td>photo</td>\n",
       "      <td>4/18/2018 3:22</td>\n",
       "      <td>213</td>\n",
       "      <td>0</td>\n",
       "      <td>0</td>\n",
       "      <td>204</td>\n",
       "      <td>9</td>\n",
       "      <td>0</td>\n",
       "      <td>0</td>\n",
       "      <td>0</td>\n",
       "      <td>0</td>\n",
       "    </tr>\n",
       "  </tbody>\n",
       "</table>\n",
       "</div>"
      ],
      "text/plain": [
       "                          status_id status_type status_published  \\\n",
       "0  246675545449582_1649696485147474       video   4/22/2018 6:00   \n",
       "1  246675545449582_1649426988507757       photo  4/21/2018 22:45   \n",
       "2  246675545449582_1648730588577397       video   4/21/2018 6:17   \n",
       "3  246675545449582_1648576705259452       photo   4/21/2018 2:29   \n",
       "4  246675545449582_1645700502213739       photo   4/18/2018 3:22   \n",
       "\n",
       "   num_reactions  num_comments  num_shares  num_likes  num_loves  num_wows  \\\n",
       "0            529           512         262        432         92         3   \n",
       "1            150             0           0        150          0         0   \n",
       "2            227           236          57        204         21         1   \n",
       "3            111             0           0        111          0         0   \n",
       "4            213             0           0        204          9         0   \n",
       "\n",
       "   num_hahas  num_sads  num_angrys  \n",
       "0          1         1           0  \n",
       "1          0         0           0  \n",
       "2          1         0           0  \n",
       "3          0         0           0  \n",
       "4          0         0           0  "
      ]
     },
     "execution_count": 12,
     "metadata": {},
     "output_type": "execute_result"
    }
   ],
   "source": [
    "df.head()"
   ]
  },
  {
   "cell_type": "code",
   "execution_count": 13,
   "id": "d4619e6b",
   "metadata": {},
   "outputs": [
    {
     "data": {
      "text/plain": [
       "(51, 12)"
      ]
     },
     "execution_count": 13,
     "metadata": {},
     "output_type": "execute_result"
    }
   ],
   "source": [
    "df[df.duplicated()].shape"
   ]
  },
  {
   "cell_type": "code",
   "execution_count": 14,
   "id": "69a12c35",
   "metadata": {},
   "outputs": [],
   "source": [
    "#df.drop_duplicates(inplace=True)"
   ]
  },
  {
   "cell_type": "code",
   "execution_count": 15,
   "id": "30bee96f",
   "metadata": {},
   "outputs": [
    {
     "data": {
      "text/plain": [
       "(7050, 12)"
      ]
     },
     "execution_count": 15,
     "metadata": {},
     "output_type": "execute_result"
    }
   ],
   "source": [
    "df.shape"
   ]
  },
  {
   "cell_type": "code",
   "execution_count": 16,
   "id": "a29a4a34",
   "metadata": {},
   "outputs": [
    {
     "data": {
      "text/html": [
       "<div>\n",
       "<style scoped>\n",
       "    .dataframe tbody tr th:only-of-type {\n",
       "        vertical-align: middle;\n",
       "    }\n",
       "\n",
       "    .dataframe tbody tr th {\n",
       "        vertical-align: top;\n",
       "    }\n",
       "\n",
       "    .dataframe thead th {\n",
       "        text-align: right;\n",
       "    }\n",
       "</style>\n",
       "<table border=\"1\" class=\"dataframe\">\n",
       "  <thead>\n",
       "    <tr style=\"text-align: right;\">\n",
       "      <th></th>\n",
       "      <th>num_reactions</th>\n",
       "      <th>num_comments</th>\n",
       "      <th>num_shares</th>\n",
       "      <th>num_likes</th>\n",
       "      <th>num_loves</th>\n",
       "      <th>num_wows</th>\n",
       "      <th>num_hahas</th>\n",
       "      <th>num_sads</th>\n",
       "      <th>num_angrys</th>\n",
       "    </tr>\n",
       "  </thead>\n",
       "  <tbody>\n",
       "    <tr>\n",
       "      <th>count</th>\n",
       "      <td>7050.000000</td>\n",
       "      <td>7050.000000</td>\n",
       "      <td>7050.000000</td>\n",
       "      <td>7050.000000</td>\n",
       "      <td>7050.000000</td>\n",
       "      <td>7050.000000</td>\n",
       "      <td>7050.000000</td>\n",
       "      <td>7050.000000</td>\n",
       "      <td>7050.000000</td>\n",
       "    </tr>\n",
       "    <tr>\n",
       "      <th>mean</th>\n",
       "      <td>230.117163</td>\n",
       "      <td>224.356028</td>\n",
       "      <td>40.022553</td>\n",
       "      <td>215.043121</td>\n",
       "      <td>12.728652</td>\n",
       "      <td>1.289362</td>\n",
       "      <td>0.696454</td>\n",
       "      <td>0.243688</td>\n",
       "      <td>0.113191</td>\n",
       "    </tr>\n",
       "    <tr>\n",
       "      <th>std</th>\n",
       "      <td>462.625309</td>\n",
       "      <td>889.636820</td>\n",
       "      <td>131.599965</td>\n",
       "      <td>449.472357</td>\n",
       "      <td>39.972930</td>\n",
       "      <td>8.719650</td>\n",
       "      <td>3.957183</td>\n",
       "      <td>1.597156</td>\n",
       "      <td>0.726812</td>\n",
       "    </tr>\n",
       "    <tr>\n",
       "      <th>min</th>\n",
       "      <td>0.000000</td>\n",
       "      <td>0.000000</td>\n",
       "      <td>0.000000</td>\n",
       "      <td>0.000000</td>\n",
       "      <td>0.000000</td>\n",
       "      <td>0.000000</td>\n",
       "      <td>0.000000</td>\n",
       "      <td>0.000000</td>\n",
       "      <td>0.000000</td>\n",
       "    </tr>\n",
       "    <tr>\n",
       "      <th>25%</th>\n",
       "      <td>17.000000</td>\n",
       "      <td>0.000000</td>\n",
       "      <td>0.000000</td>\n",
       "      <td>17.000000</td>\n",
       "      <td>0.000000</td>\n",
       "      <td>0.000000</td>\n",
       "      <td>0.000000</td>\n",
       "      <td>0.000000</td>\n",
       "      <td>0.000000</td>\n",
       "    </tr>\n",
       "    <tr>\n",
       "      <th>50%</th>\n",
       "      <td>59.500000</td>\n",
       "      <td>4.000000</td>\n",
       "      <td>0.000000</td>\n",
       "      <td>58.000000</td>\n",
       "      <td>0.000000</td>\n",
       "      <td>0.000000</td>\n",
       "      <td>0.000000</td>\n",
       "      <td>0.000000</td>\n",
       "      <td>0.000000</td>\n",
       "    </tr>\n",
       "    <tr>\n",
       "      <th>75%</th>\n",
       "      <td>219.000000</td>\n",
       "      <td>23.000000</td>\n",
       "      <td>4.000000</td>\n",
       "      <td>184.750000</td>\n",
       "      <td>3.000000</td>\n",
       "      <td>0.000000</td>\n",
       "      <td>0.000000</td>\n",
       "      <td>0.000000</td>\n",
       "      <td>0.000000</td>\n",
       "    </tr>\n",
       "    <tr>\n",
       "      <th>max</th>\n",
       "      <td>4710.000000</td>\n",
       "      <td>20990.000000</td>\n",
       "      <td>3424.000000</td>\n",
       "      <td>4710.000000</td>\n",
       "      <td>657.000000</td>\n",
       "      <td>278.000000</td>\n",
       "      <td>157.000000</td>\n",
       "      <td>51.000000</td>\n",
       "      <td>31.000000</td>\n",
       "    </tr>\n",
       "  </tbody>\n",
       "</table>\n",
       "</div>"
      ],
      "text/plain": [
       "       num_reactions  num_comments   num_shares    num_likes    num_loves  \\\n",
       "count    7050.000000   7050.000000  7050.000000  7050.000000  7050.000000   \n",
       "mean      230.117163    224.356028    40.022553   215.043121    12.728652   \n",
       "std       462.625309    889.636820   131.599965   449.472357    39.972930   \n",
       "min         0.000000      0.000000     0.000000     0.000000     0.000000   \n",
       "25%        17.000000      0.000000     0.000000    17.000000     0.000000   \n",
       "50%        59.500000      4.000000     0.000000    58.000000     0.000000   \n",
       "75%       219.000000     23.000000     4.000000   184.750000     3.000000   \n",
       "max      4710.000000  20990.000000  3424.000000  4710.000000   657.000000   \n",
       "\n",
       "          num_wows    num_hahas     num_sads   num_angrys  \n",
       "count  7050.000000  7050.000000  7050.000000  7050.000000  \n",
       "mean      1.289362     0.696454     0.243688     0.113191  \n",
       "std       8.719650     3.957183     1.597156     0.726812  \n",
       "min       0.000000     0.000000     0.000000     0.000000  \n",
       "25%       0.000000     0.000000     0.000000     0.000000  \n",
       "50%       0.000000     0.000000     0.000000     0.000000  \n",
       "75%       0.000000     0.000000     0.000000     0.000000  \n",
       "max     278.000000   157.000000    51.000000    31.000000  "
      ]
     },
     "execution_count": 16,
     "metadata": {},
     "output_type": "execute_result"
    }
   ],
   "source": [
    "df.describe()"
   ]
  },
  {
   "cell_type": "code",
   "execution_count": 17,
   "id": "8e7ecdc6",
   "metadata": {},
   "outputs": [
    {
     "data": {
      "text/plain": [
       "<AxesSubplot:>"
      ]
     },
     "execution_count": 17,
     "metadata": {},
     "output_type": "execute_result"
    },
    {
     "data": {
      "image/png": "[encoded data removed]",
      "text/plain": [
       "<Figure size 720x432 with 2 Axes>"
      ]
     },
     "metadata": {
      "needs_background": "light"
     },
     "output_type": "display_data"
    }
   ],
   "source": [
    "plt.figure(figsize=(10,6))\n",
    "sns.heatmap(df.corr())"
   ]
  },
  {
   "cell_type": "code",
   "execution_count": 18,
   "id": "da0101a3",
   "metadata": {},
   "outputs": [
    {
     "data": {
      "text/html": [
       "<div>\n",
       "<style scoped>\n",
       "    .dataframe tbody tr th:only-of-type {\n",
       "        vertical-align: middle;\n",
       "    }\n",
       "\n",
       "    .dataframe tbody tr th {\n",
       "        vertical-align: top;\n",
       "    }\n",
       "\n",
       "    .dataframe thead th {\n",
       "        text-align: right;\n",
       "    }\n",
       "</style>\n",
       "<table border=\"1\" class=\"dataframe\">\n",
       "  <thead>\n",
       "    <tr style=\"text-align: right;\">\n",
       "      <th></th>\n",
       "      <th>status_id</th>\n",
       "      <th>status_type</th>\n",
       "      <th>status_published</th>\n",
       "      <th>num_reactions</th>\n",
       "      <th>num_comments</th>\n",
       "      <th>num_shares</th>\n",
       "      <th>num_likes</th>\n",
       "      <th>num_loves</th>\n",
       "      <th>num_wows</th>\n",
       "      <th>num_hahas</th>\n",
       "      <th>num_sads</th>\n",
       "      <th>num_angrys</th>\n",
       "    </tr>\n",
       "  </thead>\n",
       "  <tbody>\n",
       "    <tr>\n",
       "      <th>0</th>\n",
       "      <td>246675545449582_1649696485147474</td>\n",
       "      <td>video</td>\n",
       "      <td>4/22/2018 6:00</td>\n",
       "      <td>529</td>\n",
       "      <td>512</td>\n",
       "      <td>262</td>\n",
       "      <td>432</td>\n",
       "      <td>92</td>\n",
       "      <td>3</td>\n",
       "      <td>1</td>\n",
       "      <td>1</td>\n",
       "      <td>0</td>\n",
       "    </tr>\n",
       "    <tr>\n",
       "      <th>1</th>\n",
       "      <td>246675545449582_1649426988507757</td>\n",
       "      <td>photo</td>\n",
       "      <td>4/21/2018 22:45</td>\n",
       "      <td>150</td>\n",
       "      <td>0</td>\n",
       "      <td>0</td>\n",
       "      <td>150</td>\n",
       "      <td>0</td>\n",
       "      <td>0</td>\n",
       "      <td>0</td>\n",
       "      <td>0</td>\n",
       "      <td>0</td>\n",
       "    </tr>\n",
       "    <tr>\n",
       "      <th>2</th>\n",
       "      <td>246675545449582_1648730588577397</td>\n",
       "      <td>video</td>\n",
       "      <td>4/21/2018 6:17</td>\n",
       "      <td>227</td>\n",
       "      <td>236</td>\n",
       "      <td>57</td>\n",
       "      <td>204</td>\n",
       "      <td>21</td>\n",
       "      <td>1</td>\n",
       "      <td>1</td>\n",
       "      <td>0</td>\n",
       "      <td>0</td>\n",
       "    </tr>\n",
       "    <tr>\n",
       "      <th>3</th>\n",
       "      <td>246675545449582_1648576705259452</td>\n",
       "      <td>photo</td>\n",
       "      <td>4/21/2018 2:29</td>\n",
       "      <td>111</td>\n",
       "      <td>0</td>\n",
       "      <td>0</td>\n",
       "      <td>111</td>\n",
       "      <td>0</td>\n",
       "      <td>0</td>\n",
       "      <td>0</td>\n",
       "      <td>0</td>\n",
       "      <td>0</td>\n",
       "    </tr>\n",
       "    <tr>\n",
       "      <th>4</th>\n",
       "      <td>246675545449582_1645700502213739</td>\n",
       "      <td>photo</td>\n",
       "      <td>4/18/2018 3:22</td>\n",
       "      <td>213</td>\n",
       "      <td>0</td>\n",
       "      <td>0</td>\n",
       "      <td>204</td>\n",
       "      <td>9</td>\n",
       "      <td>0</td>\n",
       "      <td>0</td>\n",
       "      <td>0</td>\n",
       "      <td>0</td>\n",
       "    </tr>\n",
       "  </tbody>\n",
       "</table>\n",
       "</div>"
      ],
      "text/plain": [
       "                          status_id status_type status_published  \\\n",
       "0  246675545449582_1649696485147474       video   4/22/2018 6:00   \n",
       "1  246675545449582_1649426988507757       photo  4/21/2018 22:45   \n",
       "2  246675545449582_1648730588577397       video   4/21/2018 6:17   \n",
       "3  246675545449582_1648576705259452       photo   4/21/2018 2:29   \n",
       "4  246675545449582_1645700502213739       photo   4/18/2018 3:22   \n",
       "\n",
       "   num_reactions  num_comments  num_shares  num_likes  num_loves  num_wows  \\\n",
       "0            529           512         262        432         92         3   \n",
       "1            150             0           0        150          0         0   \n",
       "2            227           236          57        204         21         1   \n",
       "3            111             0           0        111          0         0   \n",
       "4            213             0           0        204          9         0   \n",
       "\n",
       "   num_hahas  num_sads  num_angrys  \n",
       "0          1         1           0  \n",
       "1          0         0           0  \n",
       "2          1         0           0  \n",
       "3          0         0           0  \n",
       "4          0         0           0  "
      ]
     },
     "execution_count": 18,
     "metadata": {},
     "output_type": "execute_result"
    }
   ],
   "source": [
    "df.head()"
   ]
  },
  {
   "cell_type": "code",
   "execution_count": 19,
   "id": "6a9ddf12",
   "metadata": {},
   "outputs": [
    {
     "data": {
      "text/plain": [
       "(51, 12)"
      ]
     },
     "execution_count": 19,
     "metadata": {},
     "output_type": "execute_result"
    }
   ],
   "source": [
    "df[df.duplicated()].shape"
   ]
  },
  {
   "cell_type": "code",
   "execution_count": 20,
   "id": "3e323a6f",
   "metadata": {},
   "outputs": [],
   "source": [
    "df.drop(['status_id','status_published'],inplace=True,axis=1)"
   ]
  },
  {
   "cell_type": "code",
   "execution_count": 21,
   "id": "97aede99",
   "metadata": {},
   "outputs": [
    {
     "data": {
      "text/html": [
       "<div>\n",
       "<style scoped>\n",
       "    .dataframe tbody tr th:only-of-type {\n",
       "        vertical-align: middle;\n",
       "    }\n",
       "\n",
       "    .dataframe tbody tr th {\n",
       "        vertical-align: top;\n",
       "    }\n",
       "\n",
       "    .dataframe thead th {\n",
       "        text-align: right;\n",
       "    }\n",
       "</style>\n",
       "<table border=\"1\" class=\"dataframe\">\n",
       "  <thead>\n",
       "    <tr style=\"text-align: right;\">\n",
       "      <th></th>\n",
       "      <th>status_type</th>\n",
       "      <th>num_reactions</th>\n",
       "      <th>num_comments</th>\n",
       "      <th>num_shares</th>\n",
       "      <th>num_likes</th>\n",
       "      <th>num_loves</th>\n",
       "      <th>num_wows</th>\n",
       "      <th>num_hahas</th>\n",
       "      <th>num_sads</th>\n",
       "      <th>num_angrys</th>\n",
       "    </tr>\n",
       "  </thead>\n",
       "  <tbody>\n",
       "    <tr>\n",
       "      <th>0</th>\n",
       "      <td>video</td>\n",
       "      <td>529</td>\n",
       "      <td>512</td>\n",
       "      <td>262</td>\n",
       "      <td>432</td>\n",
       "      <td>92</td>\n",
       "      <td>3</td>\n",
       "      <td>1</td>\n",
       "      <td>1</td>\n",
       "      <td>0</td>\n",
       "    </tr>\n",
       "    <tr>\n",
       "      <th>1</th>\n",
       "      <td>photo</td>\n",
       "      <td>150</td>\n",
       "      <td>0</td>\n",
       "      <td>0</td>\n",
       "      <td>150</td>\n",
       "      <td>0</td>\n",
       "      <td>0</td>\n",
       "      <td>0</td>\n",
       "      <td>0</td>\n",
       "      <td>0</td>\n",
       "    </tr>\n",
       "    <tr>\n",
       "      <th>2</th>\n",
       "      <td>video</td>\n",
       "      <td>227</td>\n",
       "      <td>236</td>\n",
       "      <td>57</td>\n",
       "      <td>204</td>\n",
       "      <td>21</td>\n",
       "      <td>1</td>\n",
       "      <td>1</td>\n",
       "      <td>0</td>\n",
       "      <td>0</td>\n",
       "    </tr>\n",
       "    <tr>\n",
       "      <th>3</th>\n",
       "      <td>photo</td>\n",
       "      <td>111</td>\n",
       "      <td>0</td>\n",
       "      <td>0</td>\n",
       "      <td>111</td>\n",
       "      <td>0</td>\n",
       "      <td>0</td>\n",
       "      <td>0</td>\n",
       "      <td>0</td>\n",
       "      <td>0</td>\n",
       "    </tr>\n",
       "    <tr>\n",
       "      <th>4</th>\n",
       "      <td>photo</td>\n",
       "      <td>213</td>\n",
       "      <td>0</td>\n",
       "      <td>0</td>\n",
       "      <td>204</td>\n",
       "      <td>9</td>\n",
       "      <td>0</td>\n",
       "      <td>0</td>\n",
       "      <td>0</td>\n",
       "      <td>0</td>\n",
       "    </tr>\n",
       "    <tr>\n",
       "      <th>...</th>\n",
       "      <td>...</td>\n",
       "      <td>...</td>\n",
       "      <td>...</td>\n",
       "      <td>...</td>\n",
       "      <td>...</td>\n",
       "      <td>...</td>\n",
       "      <td>...</td>\n",
       "      <td>...</td>\n",
       "      <td>...</td>\n",
       "      <td>...</td>\n",
       "    </tr>\n",
       "    <tr>\n",
       "      <th>7045</th>\n",
       "      <td>photo</td>\n",
       "      <td>89</td>\n",
       "      <td>0</td>\n",
       "      <td>0</td>\n",
       "      <td>89</td>\n",
       "      <td>0</td>\n",
       "      <td>0</td>\n",
       "      <td>0</td>\n",
       "      <td>0</td>\n",
       "      <td>0</td>\n",
       "    </tr>\n",
       "    <tr>\n",
       "      <th>7046</th>\n",
       "      <td>photo</td>\n",
       "      <td>16</td>\n",
       "      <td>0</td>\n",
       "      <td>0</td>\n",
       "      <td>14</td>\n",
       "      <td>1</td>\n",
       "      <td>0</td>\n",
       "      <td>1</td>\n",
       "      <td>0</td>\n",
       "      <td>0</td>\n",
       "    </tr>\n",
       "    <tr>\n",
       "      <th>7047</th>\n",
       "      <td>photo</td>\n",
       "      <td>2</td>\n",
       "      <td>0</td>\n",
       "      <td>0</td>\n",
       "      <td>1</td>\n",
       "      <td>1</td>\n",
       "      <td>0</td>\n",
       "      <td>0</td>\n",
       "      <td>0</td>\n",
       "      <td>0</td>\n",
       "    </tr>\n",
       "    <tr>\n",
       "      <th>7048</th>\n",
       "      <td>photo</td>\n",
       "      <td>351</td>\n",
       "      <td>12</td>\n",
       "      <td>22</td>\n",
       "      <td>349</td>\n",
       "      <td>2</td>\n",
       "      <td>0</td>\n",
       "      <td>0</td>\n",
       "      <td>0</td>\n",
       "      <td>0</td>\n",
       "    </tr>\n",
       "    <tr>\n",
       "      <th>7049</th>\n",
       "      <td>photo</td>\n",
       "      <td>17</td>\n",
       "      <td>0</td>\n",
       "      <td>0</td>\n",
       "      <td>17</td>\n",
       "      <td>0</td>\n",
       "      <td>0</td>\n",
       "      <td>0</td>\n",
       "      <td>0</td>\n",
       "      <td>0</td>\n",
       "    </tr>\n",
       "  </tbody>\n",
       "</table>\n",
       "<p>7050 rows × 10 columns</p>\n",
       "</div>"
      ],
      "text/plain": [
       "     status_type  num_reactions  num_comments  num_shares  num_likes  \\\n",
       "0          video            529           512         262        432   \n",
       "1          photo            150             0           0        150   \n",
       "2          video            227           236          57        204   \n",
       "3          photo            111             0           0        111   \n",
       "4          photo            213             0           0        204   \n",
       "...          ...            ...           ...         ...        ...   \n",
       "7045       photo             89             0           0         89   \n",
       "7046       photo             16             0           0         14   \n",
       "7047       photo              2             0           0          1   \n",
       "7048       photo            351            12          22        349   \n",
       "7049       photo             17             0           0         17   \n",
       "\n",
       "      num_loves  num_wows  num_hahas  num_sads  num_angrys  \n",
       "0            92         3          1         1           0  \n",
       "1             0         0          0         0           0  \n",
       "2            21         1          1         0           0  \n",
       "3             0         0          0         0           0  \n",
       "4             9         0          0         0           0  \n",
       "...         ...       ...        ...       ...         ...  \n",
       "7045          0         0          0         0           0  \n",
       "7046          1         0          1         0           0  \n",
       "7047          1         0          0         0           0  \n",
       "7048          2         0          0         0           0  \n",
       "7049          0         0          0         0           0  \n",
       "\n",
       "[7050 rows x 10 columns]"
      ]
     },
     "execution_count": 21,
     "metadata": {},
     "output_type": "execute_result"
    }
   ],
   "source": [
    "df"
   ]
  },
  {
   "cell_type": "code",
   "execution_count": 22,
   "id": "66dc6f8d",
   "metadata": {},
   "outputs": [
    {
     "data": {
      "text/plain": [
       "array(['video', 'photo', 'link', 'status'], dtype=object)"
      ]
     },
     "execution_count": 22,
     "metadata": {},
     "output_type": "execute_result"
    }
   ],
   "source": [
    "df['status_type'].unique()"
   ]
  },
  {
   "cell_type": "code",
   "execution_count": 23,
   "id": "f37b8700",
   "metadata": {},
   "outputs": [],
   "source": [
    "df['status_type'] = df['status_type'].map({'video':0, 'photo':1, 'link':2, 'status':3})"
   ]
  },
  {
   "cell_type": "code",
   "execution_count": 24,
   "id": "67613df3",
   "metadata": {},
   "outputs": [
    {
     "data": {
      "text/html": [
       "<div>\n",
       "<style scoped>\n",
       "    .dataframe tbody tr th:only-of-type {\n",
       "        vertical-align: middle;\n",
       "    }\n",
       "\n",
       "    .dataframe tbody tr th {\n",
       "        vertical-align: top;\n",
       "    }\n",
       "\n",
       "    .dataframe thead th {\n",
       "        text-align: right;\n",
       "    }\n",
       "</style>\n",
       "<table border=\"1\" class=\"dataframe\">\n",
       "  <thead>\n",
       "    <tr style=\"text-align: right;\">\n",
       "      <th></th>\n",
       "      <th>status_type</th>\n",
       "      <th>num_reactions</th>\n",
       "      <th>num_comments</th>\n",
       "      <th>num_shares</th>\n",
       "      <th>num_likes</th>\n",
       "      <th>num_loves</th>\n",
       "      <th>num_wows</th>\n",
       "      <th>num_hahas</th>\n",
       "      <th>num_sads</th>\n",
       "      <th>num_angrys</th>\n",
       "    </tr>\n",
       "  </thead>\n",
       "  <tbody>\n",
       "    <tr>\n",
       "      <th>0</th>\n",
       "      <td>0</td>\n",
       "      <td>529</td>\n",
       "      <td>512</td>\n",
       "      <td>262</td>\n",
       "      <td>432</td>\n",
       "      <td>92</td>\n",
       "      <td>3</td>\n",
       "      <td>1</td>\n",
       "      <td>1</td>\n",
       "      <td>0</td>\n",
       "    </tr>\n",
       "    <tr>\n",
       "      <th>1</th>\n",
       "      <td>1</td>\n",
       "      <td>150</td>\n",
       "      <td>0</td>\n",
       "      <td>0</td>\n",
       "      <td>150</td>\n",
       "      <td>0</td>\n",
       "      <td>0</td>\n",
       "      <td>0</td>\n",
       "      <td>0</td>\n",
       "      <td>0</td>\n",
       "    </tr>\n",
       "    <tr>\n",
       "      <th>2</th>\n",
       "      <td>0</td>\n",
       "      <td>227</td>\n",
       "      <td>236</td>\n",
       "      <td>57</td>\n",
       "      <td>204</td>\n",
       "      <td>21</td>\n",
       "      <td>1</td>\n",
       "      <td>1</td>\n",
       "      <td>0</td>\n",
       "      <td>0</td>\n",
       "    </tr>\n",
       "    <tr>\n",
       "      <th>3</th>\n",
       "      <td>1</td>\n",
       "      <td>111</td>\n",
       "      <td>0</td>\n",
       "      <td>0</td>\n",
       "      <td>111</td>\n",
       "      <td>0</td>\n",
       "      <td>0</td>\n",
       "      <td>0</td>\n",
       "      <td>0</td>\n",
       "      <td>0</td>\n",
       "    </tr>\n",
       "    <tr>\n",
       "      <th>4</th>\n",
       "      <td>1</td>\n",
       "      <td>213</td>\n",
       "      <td>0</td>\n",
       "      <td>0</td>\n",
       "      <td>204</td>\n",
       "      <td>9</td>\n",
       "      <td>0</td>\n",
       "      <td>0</td>\n",
       "      <td>0</td>\n",
       "      <td>0</td>\n",
       "    </tr>\n",
       "  </tbody>\n",
       "</table>\n",
       "</div>"
      ],
      "text/plain": [
       "   status_type  num_reactions  num_comments  num_shares  num_likes  num_loves  \\\n",
       "0            0            529           512         262        432         92   \n",
       "1            1            150             0           0        150          0   \n",
       "2            0            227           236          57        204         21   \n",
       "3            1            111             0           0        111          0   \n",
       "4            1            213             0           0        204          9   \n",
       "\n",
       "   num_wows  num_hahas  num_sads  num_angrys  \n",
       "0         3          1         1           0  \n",
       "1         0          0         0           0  \n",
       "2         1          1         0           0  \n",
       "3         0          0         0           0  \n",
       "4         0          0         0           0  "
      ]
     },
     "execution_count": 24,
     "metadata": {},
     "output_type": "execute_result"
    }
   ],
   "source": [
    "df.head()"
   ]
  },
  {
   "cell_type": "code",
   "execution_count": 25,
   "id": "0ae18be0",
   "metadata": {},
   "outputs": [
    {
     "data": {
      "text/plain": [
       "Index(['status_type', 'num_reactions', 'num_comments', 'num_shares',\n",
       "       'num_likes', 'num_loves', 'num_wows', 'num_hahas', 'num_sads',\n",
       "       'num_angrys'],\n",
       "      dtype='object')"
      ]
     },
     "execution_count": 25,
     "metadata": {},
     "output_type": "execute_result"
    }
   ],
   "source": [
    "df.columns"
   ]
  },
  {
   "cell_type": "code",
   "execution_count": 26,
   "id": "920a6534",
   "metadata": {},
   "outputs": [],
   "source": [
    "# X = df.iloc[:,:-1].values\n",
    "# X\n",
    "# y = df['status_type'].values"
   ]
  },
  {
   "cell_type": "code",
   "execution_count": 53,
   "id": "5b26b4b9",
   "metadata": {},
   "outputs": [
    {
     "data": {
      "text/plain": [
       "0       0\n",
       "1       1\n",
       "2       0\n",
       "3       1\n",
       "4       1\n",
       "       ..\n",
       "7045    1\n",
       "7046    1\n",
       "7047    1\n",
       "7048    1\n",
       "7049    1\n",
       "Name: status_type, Length: 7050, dtype: int64"
      ]
     },
     "execution_count": 53,
     "metadata": {},
     "output_type": "execute_result"
    }
   ],
   "source": [
    "X = df.values\n",
    "\n",
    "y = df['status_type']\n",
    "y"
   ]
  },
  {
   "cell_type": "code",
   "execution_count": 54,
   "id": "28fcae1e",
   "metadata": {},
   "outputs": [
    {
     "data": {
      "text/plain": [
       "array([[0.        , 0.11231423, 0.02439257, ..., 0.00636943, 0.01960784,\n",
       "        0.        ],\n",
       "       [0.33333333, 0.03184713, 0.        , ..., 0.        , 0.        ,\n",
       "        0.        ],\n",
       "       [0.        , 0.04819533, 0.01124345, ..., 0.00636943, 0.        ,\n",
       "        0.        ],\n",
       "       ...,\n",
       "       [0.33333333, 0.00042463, 0.        , ..., 0.        , 0.        ,\n",
       "        0.        ],\n",
       "       [0.33333333, 0.07452229, 0.0005717 , ..., 0.        , 0.        ,\n",
       "        0.        ],\n",
       "       [0.33333333, 0.00360934, 0.        , ..., 0.        , 0.        ,\n",
       "        0.        ]])"
      ]
     },
     "execution_count": 54,
     "metadata": {},
     "output_type": "execute_result"
    }
   ],
   "source": [
    "from sklearn.preprocessing import MinMaxScaler\n",
    "scaled = MinMaxScaler()\n",
    "X = scaled.fit_transform(X)\n",
    "X"
   ]
  },
  {
   "cell_type": "code",
   "execution_count": 55,
   "id": "bd37a84e",
   "metadata": {
    "scrolled": true
   },
   "outputs": [],
   "source": [
    "# X = pd.DataFrame(X,columns=['status_type', 'num_reactions', 'num_comments', 'num_shares',\n",
    "#        'num_likes', 'num_loves', 'num_wows', 'num_hahas', 'num_sads',\n",
    "#        'num_angrys'])\n",
    "# X.head()"
   ]
  },
  {
   "cell_type": "code",
   "execution_count": 56,
   "id": "edf6ab0b",
   "metadata": {},
   "outputs": [
    {
     "data": {
      "image/png": "[encoded data removed]",
      "text/plain": [
       "<Figure size 432x288 with 1 Axes>"
      ]
     },
     "metadata": {
      "needs_background": "light"
     },
     "output_type": "display_data"
    }
   ],
   "source": [
    "from sklearn.cluster import KMeans\n",
    "\n",
    "wcss = []\n",
    "for i in range(1,11):\n",
    "    kmeans = KMeans(n_clusters=i,init='k-means++',random_state=1)\n",
    "    kmeans.fit(X)\n",
    "    wcss.append(kmeans.inertia_)\n",
    "    \n",
    "plt.plot(range(1,11),wcss)\n",
    "plt.title('The Elow Method')\n",
    "plt.xlabel('Number of Clusters')\n",
    "plt.ylabel('WCSS')\n",
    "plt.show()"
   ]
  },
  {
   "cell_type": "code",
   "execution_count": 68,
   "id": "110db2d0",
   "metadata": {},
   "outputs": [
    {
     "data": {
      "text/plain": [
       "array([0, 1, 2, 3])"
      ]
     },
     "execution_count": 68,
     "metadata": {},
     "output_type": "execute_result"
    }
   ],
   "source": [
    "from sklearn.cluster import KMeans\n",
    "kmean = KMeans(n_clusters=4,init='k-means++',random_state=1)\n",
    "pred_cluster = kmean.fit_predict(X)\n",
    "np.unique(pred_cluster)"
   ]
  },
  {
   "cell_type": "code",
   "execution_count": 67,
   "id": "6149c55d",
   "metadata": {},
   "outputs": [
    {
     "data": {
      "text/plain": [
       "array([0, 1, 2, 3])"
      ]
     },
     "execution_count": 67,
     "metadata": {},
     "output_type": "execute_result"
    }
   ],
   "source": [
    "labels = kmean.labels_\n",
    "np.unique(labels)"
   ]
  },
  {
   "cell_type": "code",
   "execution_count": 58,
   "id": "8e7eb3b2",
   "metadata": {},
   "outputs": [
    {
     "data": {
      "text/plain": [
       "array([[-6.66133815e-16,  3.95835031e-02,  2.92510667e-02,\n",
       "         2.85216517e-02,  3.30627006e-02,  4.25574394e-02,\n",
       "         3.17954046e-03,  8.39844432e-03,  6.99896046e-03,\n",
       "         6.14790352e-03],\n",
       "       [ 3.33333333e-01,  1.95742686e-02,  6.56851216e-04,\n",
       "         5.26645590e-04,  1.91061993e-02,  1.91554805e-03,\n",
       "         2.04932844e-03,  1.13622707e-03,  2.88279978e-03,\n",
       "         1.54136794e-03],\n",
       "       [ 9.54294720e-01,  8.70493342e-02,  1.51439895e-03,\n",
       "         8.27146992e-04,  8.64364839e-02,  2.11938354e-03,\n",
       "         3.74168750e-03,  6.32425351e-04,  6.53594771e-03,\n",
       "         6.86341798e-04],\n",
       "       [ 2.02048417e-01,  3.94217106e-01,  2.24381922e-02,\n",
       "         4.88875764e-02,  3.77105054e-01,  9.70851084e-02,\n",
       "         4.41200113e-02,  2.23285770e-02,  1.07350203e-02,\n",
       "         1.59488196e-02]])"
      ]
     },
     "execution_count": 58,
     "metadata": {},
     "output_type": "execute_result"
    }
   ],
   "source": [
    "kmean.cluster_centers_"
   ]
  },
  {
   "cell_type": "code",
   "execution_count": 82,
   "id": "af2f326b",
   "metadata": {},
   "outputs": [
    {
     "name": "stdout",
     "output_type": "stream",
     "text": [
      "0.8974468085106383\n",
      "0.756943287885789\n"
     ]
    }
   ],
   "source": [
    "from sklearn.metrics import accuracy_score,silhouette_score\n",
    "score = accuracy_score(y,labels)\n",
    "print(score)\n",
    "\n",
    "# Calculate Silhoutte Score\n",
    "from sklearn.metrics import silhouette_score\n",
    "score = silhouette_score(X, kmean.labels_, metric='euclidean')\n",
    "print(score)\n",
    "\n"
   ]
  },
  {
   "cell_type": "code",
   "execution_count": 83,
   "id": "09c650fe",
   "metadata": {},
   "outputs": [
    {
     "name": "stdout",
     "output_type": "stream",
     "text": [
      "Result : 6327 out of 7050 samples were correctly labeled.\n"
     ]
    }
   ],
   "source": [
    "correct_lables = sum(y == labels)\n",
    "print('Result : %d out of %d samples were correctly labeled.'%(correct_lables,y.size))"
   ]
  },
  {
   "cell_type": "code",
   "execution_count": 84,
   "id": "611b8d0c",
   "metadata": {},
   "outputs": [
    {
     "name": "stdout",
     "output_type": "stream",
     "text": [
      "Accuracy score : 0.90\n"
     ]
    }
   ],
   "source": [
    "print('Accuracy score : {0:0.2f}'.format(correct_lables/float(y.size)))"
   ]
  },
  {
   "cell_type": "code",
   "execution_count": null,
   "id": "197fdbd6",
   "metadata": {},
   "outputs": [],
   "source": []
  }
 ],
 "metadata": {
  "kernelspec": {
   "display_name": "Python 3 (ipykernel)",
   "language": "python",
   "name": "python3"
  },
  "language_info": {
   "codemirror_mode": {
    "name": "ipython",
    "version": 3
   },
   "file_extension": ".py",
   "mimetype": "text/x-python",
   "name": "python",
   "nbconvert_exporter": "python",
   "pygments_lexer": "ipython3",
   "version": "3.9.7"
  }
 },
 "nbformat": 4,
 "nbformat_minor": 5
}
