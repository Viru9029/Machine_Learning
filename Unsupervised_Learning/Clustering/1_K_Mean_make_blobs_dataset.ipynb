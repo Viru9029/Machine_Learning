{
 "cells": [
  {
   "cell_type": "code",
   "execution_count": 1,
   "id": "d732a9b6",
   "metadata": {},
   "outputs": [],
   "source": [
    "import numpy as np\n",
    "import pandas as pd\n",
    "import matplotlib.pyplot as plt\n",
    "import seaborn as sns"
   ]
  },
  {
   "cell_type": "code",
   "execution_count": 2,
   "id": "eb894769",
   "metadata": {},
   "outputs": [],
   "source": [
    "from sklearn.datasets import make_blobs\n",
    "X,y = make_blobs(n_samples=300,centers=4,cluster_std=0.60,random_state=10)"
   ]
  },
  {
   "cell_type": "code",
   "execution_count": 3,
   "id": "44eca510",
   "metadata": {},
   "outputs": [
    {
     "data": {
      "text/plain": [
       "array([[ 5.59024246e+00, -1.05561035e+01],\n",
       "       [ 2.39012465e+00,  5.18576350e+00],\n",
       "       [ 3.40385401e+00,  4.94216522e+00],\n",
       "       [ 3.04511740e+00,  4.33493703e+00],\n",
       "       [-7.72834344e+00,  5.27634090e+00],\n",
       "       [ 8.85035804e-02, -5.65723536e+00],\n",
       "       [-1.43751990e-02, -4.18348723e+00],\n",
       "       [ 5.60217730e+00, -9.86744536e+00],\n",
       "       [ 1.74458146e+00,  5.78296156e+00],\n",
       "       [ 3.08570753e+00,  4.05623642e+00],\n",
       "       [ 5.82255180e+00, -9.79548415e+00],\n",
       "       [-6.42032423e+00,  5.87631738e+00],\n",
       "       [ 6.43492361e-02, -4.68879361e+00],\n",
       "       [ 5.55677195e+00, -1.07815973e+01],\n",
       "       [ 2.77130725e+00,  5.47378514e+00],\n",
       "       [ 1.64632198e+00,  5.34345604e+00],\n",
       "       [ 5.28421035e+00, -9.55058992e+00],\n",
       "       [-6.46151471e+00,  4.99835661e+00],\n",
       "       [-9.38905162e-01, -5.82729821e+00],\n",
       "       [-6.50098970e+00,  5.88515939e+00],\n",
       "       [-2.33908965e-02, -6.04781518e+00],\n",
       "       [ 3.11126917e+00,  3.95703676e+00],\n",
       "       [ 2.97532084e+00,  5.08907638e+00],\n",
       "       [ 2.71424558e+00,  5.82331623e+00],\n",
       "       [-1.42018371e-02, -6.08589049e+00],\n",
       "       [-6.30801019e+00,  5.50323181e+00],\n",
       "       [-5.70098963e+00,  5.58708483e+00],\n",
       "       [-6.63432220e+00,  4.80120936e+00],\n",
       "       [ 6.17978653e-01, -5.78177162e+00],\n",
       "       [-6.33424718e+00,  4.75964198e+00],\n",
       "       [ 2.81973341e+00,  4.86969836e+00],\n",
       "       [ 1.08791125e+00, -6.69424899e+00],\n",
       "       [-5.11164565e+00,  4.79560165e+00],\n",
       "       [ 6.16813606e+00, -8.10576596e+00],\n",
       "       [ 7.31955015e-01, -4.66566430e+00],\n",
       "       [ 3.37326572e+00,  4.63289156e+00],\n",
       "       [ 2.73042264e+00,  5.24549069e+00],\n",
       "       [ 1.99467953e+00,  3.81129784e+00],\n",
       "       [-5.83093176e+00,  5.77603294e+00],\n",
       "       [ 2.97487821e+00,  5.69268801e+00],\n",
       "       [ 2.88505127e+00,  4.85170996e+00],\n",
       "       [ 6.86900823e+00, -1.00285751e+01],\n",
       "       [-5.65068770e+00,  4.80651316e+00],\n",
       "       [ 2.50136349e+00,  4.45842267e+00],\n",
       "       [-5.32599191e+00,  4.15091524e+00],\n",
       "       [ 4.23977590e+00, -1.06309844e+01],\n",
       "       [-5.64962506e+00,  5.19595712e+00],\n",
       "       [ 1.29590270e+00,  4.25852006e+00],\n",
       "       [ 2.10084525e+00,  5.32890201e+00],\n",
       "       [-5.48595045e+00,  4.86688191e+00],\n",
       "       [ 2.79736244e+00,  4.88903893e+00],\n",
       "       [ 4.00799448e+00,  5.04638650e+00],\n",
       "       [ 4.52141997e+00, -9.21260062e+00],\n",
       "       [ 5.13715698e+00, -9.53120845e+00],\n",
       "       [ 8.73188590e-03, -5.60391031e+00],\n",
       "       [ 9.37014622e-01, -5.36046353e+00],\n",
       "       [ 2.06902356e+00,  4.82155748e+00],\n",
       "       [ 5.28844488e+00, -1.02626917e+01],\n",
       "       [ 2.72703132e-01, -5.02150667e+00],\n",
       "       [ 6.64153604e-01, -5.13849773e+00],\n",
       "       [ 2.76234112e+00,  5.16514435e+00],\n",
       "       [-7.86813597e-01, -5.63562325e+00],\n",
       "       [ 6.57694018e-03, -5.51789180e+00],\n",
       "       [ 5.62582284e+00, -8.90397711e+00],\n",
       "       [-7.52051849e-01, -5.37816360e+00],\n",
       "       [ 5.16299712e+00, -9.50029851e+00],\n",
       "       [-6.29326956e+00,  5.18010445e+00],\n",
       "       [-5.90644457e+00,  4.38674573e+00],\n",
       "       [-1.95250056e+00, -4.62644049e+00],\n",
       "       [-6.24271188e+00,  5.65292163e+00],\n",
       "       [ 1.82043639e+00,  4.56870959e+00],\n",
       "       [-6.12654719e+00,  5.84567623e+00],\n",
       "       [-3.10001327e-01, -5.61147891e+00],\n",
       "       [ 5.25383522e+00, -1.04005474e+01],\n",
       "       [-6.44861615e+00,  4.81520386e+00],\n",
       "       [-6.84714759e+00,  5.84633124e+00],\n",
       "       [-4.04031159e-01, -5.72197881e+00],\n",
       "       [-5.61641547e+00,  4.84762161e+00],\n",
       "       [-1.70909092e-01, -6.26056377e+00],\n",
       "       [ 3.28135548e+00,  4.39395896e+00],\n",
       "       [-6.53782223e+00,  5.56652778e+00],\n",
       "       [ 3.40327363e+00,  5.08566608e+00],\n",
       "       [-4.43573165e+00,  5.24928154e+00],\n",
       "       [ 5.38926565e+00, -1.00372968e+01],\n",
       "       [ 2.17954414e+00,  4.02414659e+00],\n",
       "       [ 4.31270158e+00, -9.71862523e+00],\n",
       "       [ 2.17101693e-01, -5.33138083e+00],\n",
       "       [ 2.79347393e-01, -4.07359232e+00],\n",
       "       [ 6.31713507e+00, -1.02328439e+01],\n",
       "       [ 3.24124035e+00,  4.36269124e+00],\n",
       "       [-6.28430423e+00,  5.06212908e+00],\n",
       "       [-5.31700095e+00,  5.79294996e+00],\n",
       "       [ 1.41100514e-02, -4.79982764e+00],\n",
       "       [ 3.41509601e-01, -5.21772651e+00],\n",
       "       [ 1.46233351e+00,  5.30040208e+00],\n",
       "       [ 4.94365818e+00, -9.71257960e+00],\n",
       "       [-5.52003162e+00,  3.95193912e+00],\n",
       "       [ 3.62337635e-01, -6.81003227e+00],\n",
       "       [ 5.00760808e-01, -6.33616061e+00],\n",
       "       [ 5.20891336e+00, -9.65810443e+00],\n",
       "       [ 5.26366407e+00, -9.21703850e+00],\n",
       "       [-6.19087752e+00,  5.32588762e+00],\n",
       "       [ 3.20850312e+00,  4.98269127e+00],\n",
       "       [-6.62949469e+00,  6.10220189e+00],\n",
       "       [ 2.43208101e+00,  5.78138522e+00],\n",
       "       [ 6.23314252e+00, -9.28885182e+00],\n",
       "       [-6.00495387e+00,  5.53808492e+00],\n",
       "       [ 2.80965512e+00,  5.12558485e+00],\n",
       "       [ 4.74445154e+00, -9.50387889e+00],\n",
       "       [ 5.24882255e+00, -9.07603585e+00],\n",
       "       [ 2.43837539e+00,  5.72918189e+00],\n",
       "       [-2.23780493e-01, -5.10557973e+00],\n",
       "       [-6.71806135e+00,  4.66404661e+00],\n",
       "       [-1.60140691e-01, -6.02932052e+00],\n",
       "       [ 2.26123533e+00,  5.30484401e+00],\n",
       "       [ 4.86275285e+00, -9.87856334e+00],\n",
       "       [ 2.02514627e+00,  4.90223575e+00],\n",
       "       [-3.98442662e-01, -5.00181802e+00],\n",
       "       [ 4.24113361e-01, -5.94170662e+00],\n",
       "       [-5.87327325e+00,  4.97704532e+00],\n",
       "       [ 3.32410094e+00,  5.19024109e+00],\n",
       "       [-1.01082624e+00, -5.24310472e+00],\n",
       "       [ 2.83746837e+00,  4.66713170e+00],\n",
       "       [-6.71299523e+00,  4.09619934e+00],\n",
       "       [ 2.52899092e+00,  4.55904366e+00],\n",
       "       [ 5.76550447e+00, -9.67341317e+00],\n",
       "       [-5.59936346e-01, -4.80923615e+00],\n",
       "       [ 3.27708138e+00,  4.79942205e+00],\n",
       "       [-6.99177119e+00,  4.92937582e+00],\n",
       "       [ 5.61526513e+00, -8.10437038e+00],\n",
       "       [ 5.61802672e+00, -9.30841927e+00],\n",
       "       [ 5.29693893e+00, -8.99151754e+00],\n",
       "       [-6.49690531e+00,  5.49908749e+00],\n",
       "       [ 3.81434712e+00,  5.14384089e+00],\n",
       "       [-2.91349302e-01, -5.18230596e+00],\n",
       "       [ 5.10248542e+00, -9.16006500e+00],\n",
       "       [ 1.80758537e+00,  4.01076743e+00],\n",
       "       [ 6.42044284e+00, -9.18422725e+00],\n",
       "       [ 2.24528504e+00,  4.81956196e+00],\n",
       "       [ 4.41198145e-01, -5.79670174e+00],\n",
       "       [-3.61850811e-01, -6.16774103e+00],\n",
       "       [ 5.58571982e+00, -9.51983190e+00],\n",
       "       [ 5.24988827e-01, -5.36292023e+00],\n",
       "       [ 2.78872629e+00,  4.97849260e+00],\n",
       "       [ 5.38690416e+00, -1.08639883e+01],\n",
       "       [ 3.26100918e+00,  3.53873444e+00],\n",
       "       [ 5.48590239e+00, -8.74616319e+00],\n",
       "       [ 2.32229160e+00,  5.33729101e+00],\n",
       "       [ 1.06080981e+00, -5.83769549e+00],\n",
       "       [ 5.26602255e+00, -9.91454642e+00],\n",
       "       [-6.74574546e+00,  5.65532669e+00],\n",
       "       [ 2.94949777e+00,  5.37350206e+00],\n",
       "       [ 2.15845119e+00,  4.75751080e+00],\n",
       "       [ 2.91444615e+00,  4.75242080e+00],\n",
       "       [ 5.85358828e+00, -9.03399952e+00],\n",
       "       [-6.23135635e+00,  5.51115122e+00],\n",
       "       [ 6.10062762e+00, -8.58138768e+00],\n",
       "       [ 3.94171368e-03, -4.62467409e+00],\n",
       "       [ 5.73284151e+00, -9.33638243e+00],\n",
       "       [-6.78289188e+00,  4.57874466e+00],\n",
       "       [-1.89760873e-01, -5.60684277e+00],\n",
       "       [-5.95314113e+00,  4.74019291e+00],\n",
       "       [ 2.32801410e+00,  4.75997497e+00],\n",
       "       [ 2.17165960e+00,  5.10234809e+00],\n",
       "       [ 5.58605496e+00, -8.15398061e+00],\n",
       "       [-1.29700170e-01, -5.34232364e+00],\n",
       "       [-5.42203847e+00,  4.72888047e+00],\n",
       "       [-6.31626618e+00,  5.34174954e+00],\n",
       "       [-5.93656589e+00,  4.75591645e+00],\n",
       "       [ 5.44766990e-01, -5.01493468e+00],\n",
       "       [-3.23024707e-01, -5.55985601e+00],\n",
       "       [ 4.69091128e+00, -9.71803689e+00],\n",
       "       [ 2.08175842e-01, -5.84973721e+00],\n",
       "       [ 3.23846494e+00,  3.18831959e+00],\n",
       "       [-6.53524871e+00,  4.71353151e+00],\n",
       "       [ 5.04243530e+00, -9.39666270e+00],\n",
       "       [-5.94758625e+00,  5.02809414e+00],\n",
       "       [-5.45805646e+00,  4.68589922e+00],\n",
       "       [-5.93749054e+00,  5.18061594e+00],\n",
       "       [ 5.23871561e+00, -9.79429016e+00],\n",
       "       [ 5.65306472e+00, -8.61631623e+00],\n",
       "       [-4.69362280e+00,  5.06272197e+00],\n",
       "       [ 5.37773956e+00, -9.90253866e+00],\n",
       "       [ 4.06444109e+00,  5.16127825e+00],\n",
       "       [ 6.83130298e-01, -5.65151432e+00],\n",
       "       [-6.16865766e+00,  4.50309154e+00],\n",
       "       [ 6.10368396e+00, -1.00036470e+01],\n",
       "       [ 2.75284720e+00,  5.69772398e+00],\n",
       "       [ 3.12614467e+00,  5.50376907e+00],\n",
       "       [ 5.39758807e+00, -9.87343342e+00],\n",
       "       [ 5.92261204e+00, -1.07576683e+01],\n",
       "       [-6.12868639e+00,  5.18941741e+00],\n",
       "       [ 5.50603784e+00, -9.87064622e+00],\n",
       "       [-6.48224682e-01, -6.31868563e+00],\n",
       "       [-6.29572475e+00,  4.75736474e+00],\n",
       "       [ 8.64206124e-02, -5.17812604e+00],\n",
       "       [ 8.56839496e-02, -5.24279686e+00],\n",
       "       [-5.05188603e+00,  5.64467176e+00],\n",
       "       [ 6.61746362e+00, -8.53807252e+00],\n",
       "       [ 5.28710351e+00, -9.88599835e+00],\n",
       "       [-6.89741379e+00,  4.45251613e+00],\n",
       "       [-7.48290748e-02, -5.81713296e+00],\n",
       "       [-5.69632663e+00,  4.90288913e+00],\n",
       "       [ 2.65113518e+00,  4.46786790e+00],\n",
       "       [ 1.05816056e-01, -5.57359553e+00],\n",
       "       [ 6.86323506e+00, -9.03448565e+00],\n",
       "       [ 4.25823045e-01, -5.52442329e+00],\n",
       "       [-1.04504051e+00, -5.13419654e+00],\n",
       "       [ 2.93598384e+00,  4.50667173e+00],\n",
       "       [-1.48545824e-01, -5.56135259e+00],\n",
       "       [ 5.85051114e+00, -1.00573224e+01],\n",
       "       [-1.03812731e+00, -5.09804217e+00],\n",
       "       [-5.27371324e+00,  5.01331502e+00],\n",
       "       [-5.64571907e-01, -5.97367974e+00],\n",
       "       [ 5.49689826e+00, -1.07294351e+01],\n",
       "       [-5.94285619e-01, -5.53622379e+00],\n",
       "       [-5.12203203e+00,  4.82095122e+00],\n",
       "       [-1.44772986e-01, -5.02724851e+00],\n",
       "       [-5.64730595e-01, -5.85020309e+00],\n",
       "       [ 3.33304232e+00,  5.31468917e+00],\n",
       "       [ 2.24872183e+00,  5.30407655e+00],\n",
       "       [-8.79311680e-01, -5.44724210e+00],\n",
       "       [ 1.91107294e+00,  5.17011161e+00],\n",
       "       [ 1.95323577e-01, -5.55441624e+00],\n",
       "       [ 2.90675223e-01, -5.50160587e+00],\n",
       "       [ 6.03992253e+00, -9.48487485e+00],\n",
       "       [ 6.23036865e+00, -9.56737519e+00],\n",
       "       [-5.72401826e+00,  5.53070766e+00],\n",
       "       [-6.84815793e+00,  5.51069635e+00],\n",
       "       [ 2.07013489e+00,  5.33094950e+00],\n",
       "       [ 4.75255044e+00, -9.81819778e+00],\n",
       "       [ 6.18029622e+00, -1.00241427e+01],\n",
       "       [ 2.26975064e+00,  5.03956490e+00],\n",
       "       [ 2.33486130e+00,  5.48897490e+00],\n",
       "       [-5.49065212e+00,  4.61241052e+00],\n",
       "       [ 5.39711456e+00, -9.34895628e+00],\n",
       "       [ 3.26492339e+00,  4.99301407e+00],\n",
       "       [-5.28985313e+00,  5.65024971e+00],\n",
       "       [ 2.05811292e+00,  5.07231715e+00],\n",
       "       [-5.56791632e+00,  4.67282964e+00],\n",
       "       [-6.23216080e+00,  4.81115481e+00],\n",
       "       [-5.17519047e+00,  6.03990222e+00],\n",
       "       [ 5.08254485e+00, -1.03772295e+01],\n",
       "       [ 5.56359094e+00, -9.31787845e+00],\n",
       "       [-6.19488664e+00,  5.69940696e+00],\n",
       "       [ 2.93467588e+00,  4.95332692e+00],\n",
       "       [ 4.87266731e+00, -9.30311015e+00],\n",
       "       [ 2.42952698e+00,  5.44514276e+00],\n",
       "       [ 5.22292872e+00, -9.39765905e+00],\n",
       "       [-6.74605533e+00,  5.12113462e+00],\n",
       "       [ 6.25635220e+00, -9.37722114e+00],\n",
       "       [-6.01857278e+00,  4.99066865e+00],\n",
       "       [ 5.41086966e+00, -9.41150449e+00],\n",
       "       [-5.88417626e+00,  5.99836789e+00],\n",
       "       [ 3.67741003e+00,  5.67431187e+00],\n",
       "       [ 5.33979281e+00, -9.82504402e+00],\n",
       "       [-6.05308777e+00,  4.27608876e+00],\n",
       "       [ 1.57808643e+00, -6.16618037e+00],\n",
       "       [ 6.21149671e+00, -9.46795305e+00],\n",
       "       [ 2.61141823e-01, -6.49922991e+00],\n",
       "       [ 5.68622858e+00, -8.86313859e+00],\n",
       "       [-1.01121172e+00, -5.35718824e+00],\n",
       "       [ 2.99329558e+00,  5.42246229e+00],\n",
       "       [ 5.42898772e+00, -9.68972114e+00],\n",
       "       [-6.80015202e+00,  5.66353989e+00],\n",
       "       [ 3.00202154e+00,  5.33799708e+00],\n",
       "       [ 6.61764431e+00, -8.71666165e+00],\n",
       "       [ 2.87654407e-01, -6.04175339e+00],\n",
       "       [ 6.05412258e+00, -1.04360946e+01],\n",
       "       [-6.17380082e+00,  5.25270687e+00],\n",
       "       [ 4.46951411e-01, -5.79995153e+00],\n",
       "       [-4.79371350e+00,  4.85650233e+00],\n",
       "       [ 2.47310400e+00,  4.50124319e+00],\n",
       "       [ 3.20442961e+00,  5.13471447e+00],\n",
       "       [ 8.63071281e-01, -5.41991897e+00],\n",
       "       [ 6.30821968e-01, -5.28079356e+00],\n",
       "       [-6.20096628e-01, -5.25654746e+00],\n",
       "       [-6.38245230e+00,  4.63401104e+00],\n",
       "       [-6.10539097e+00,  5.18728556e+00],\n",
       "       [ 5.66653886e+00, -9.78754042e+00],\n",
       "       [ 2.59342054e+00,  4.80193017e+00],\n",
       "       [-5.72677732e+00,  4.38388875e+00],\n",
       "       [-6.27002879e+00,  6.14673951e+00],\n",
       "       [-6.33378673e-01, -5.30752187e+00],\n",
       "       [ 8.37921514e-02, -5.47720228e+00],\n",
       "       [ 2.47571576e-01, -6.23598041e+00],\n",
       "       [ 4.79933334e+00, -1.00637663e+01],\n",
       "       [-6.03591638e+00,  5.29883461e+00],\n",
       "       [ 5.35904938e+00, -9.80226928e+00],\n",
       "       [ 2.91381075e-01, -5.17356027e+00],\n",
       "       [ 5.93174771e+00, -9.46281253e+00],\n",
       "       [ 6.09103781e+00, -9.43823463e+00],\n",
       "       [ 2.57451952e+00,  4.28679029e+00],\n",
       "       [ 2.23939226e+00,  5.02656138e+00],\n",
       "       [ 6.99009836e-01, -4.89909731e+00],\n",
       "       [ 4.84737346e+00, -8.96799657e+00],\n",
       "       [ 2.22786980e+00,  5.63942273e+00],\n",
       "       [ 8.08831878e-01, -5.42926702e+00],\n",
       "       [ 3.17569316e-01, -5.78002242e+00],\n",
       "       [-5.76750237e+00,  5.38705580e+00]])"
      ]
     },
     "execution_count": 3,
     "metadata": {},
     "output_type": "execute_result"
    }
   ],
   "source": [
    "X"
   ]
  },
  {
   "cell_type": "code",
   "execution_count": 4,
   "id": "ce7dc1cf",
   "metadata": {},
   "outputs": [
    {
     "data": {
      "image/png": "[encoded data removed]",
      "text/plain": [
       "<Figure size 1080x432 with 1 Axes>"
      ]
     },
     "metadata": {
      "needs_background": "light"
     },
     "output_type": "display_data"
    }
   ],
   "source": [
    "plt.figure(figsize=(15,6,))\n",
    "plt.scatter(X[:,0],X[:,1],s=50)\n",
    "plt.show()"
   ]
  },
  {
   "cell_type": "code",
   "execution_count": 5,
   "id": "7f723ab2",
   "metadata": {},
   "outputs": [
    {
     "data": {
      "text/plain": [
       "array([0, 1, 1, 1, 3, 2, 2, 0, 1, 1, 0, 3, 2, 0, 1, 1, 0, 3, 2, 3, 2, 1,\n",
       "       1, 1, 2, 3, 3, 3, 2, 3, 1, 2, 3, 0, 2, 1, 1, 1, 3, 1, 1, 0, 3, 1,\n",
       "       3, 0, 3, 1, 1, 3, 1, 1, 0, 0, 2, 2, 1, 0, 2, 2, 1, 2, 2, 0, 2, 0,\n",
       "       3, 3, 2, 3, 1, 3, 2, 0, 3, 3, 2, 3, 2, 1, 3, 1, 3, 0, 1, 0, 2, 2,\n",
       "       0, 1, 3, 3, 2, 2, 1, 0, 3, 2, 2, 0, 0, 3, 1, 3, 1, 0, 3, 1, 0, 0,\n",
       "       1, 2, 3, 2, 1, 0, 1, 2, 2, 3, 1, 2, 1, 3, 1, 0, 2, 1, 3, 0, 0, 0,\n",
       "       3, 1, 2, 0, 1, 0, 1, 2, 2, 0, 2, 1, 0, 1, 0, 1, 2, 0, 3, 1, 1, 1,\n",
       "       0, 3, 0, 2, 0, 3, 2, 3, 1, 1, 0, 2, 3, 3, 3, 2, 2, 0, 2, 1, 3, 0,\n",
       "       3, 3, 3, 0, 0, 3, 0, 1, 2, 3, 0, 1, 1, 0, 0, 3, 0, 2, 3, 2, 2, 3,\n",
       "       0, 0, 3, 2, 3, 1, 2, 0, 2, 2, 1, 2, 0, 2, 3, 2, 0, 2, 3, 2, 2, 1,\n",
       "       1, 2, 1, 2, 2, 0, 0, 3, 3, 1, 0, 0, 1, 1, 3, 0, 1, 3, 1, 3, 3, 3,\n",
       "       0, 0, 3, 1, 0, 1, 0, 3, 0, 3, 0, 3, 1, 0, 3, 2, 0, 2, 0, 2, 1, 0,\n",
       "       3, 1, 0, 2, 0, 3, 2, 3, 1, 1, 2, 2, 2, 3, 3, 0, 1, 3, 3, 2, 2, 2,\n",
       "       0, 3, 0, 2, 0, 0, 1, 1, 2, 0, 1, 2, 2, 3])"
      ]
     },
     "execution_count": 5,
     "metadata": {},
     "output_type": "execute_result"
    }
   ],
   "source": [
    "y"
   ]
  },
  {
   "cell_type": "code",
   "execution_count": 6,
   "id": "bd246b3d",
   "metadata": {},
   "outputs": [
    {
     "name": "stderr",
     "output_type": "stream",
     "text": [
      "C:\\ProgramData\\Anaconda3\\lib\\site-packages\\sklearn\\cluster\\_kmeans.py:881: UserWarning: KMeans is known to have a memory leak on Windows with MKL, when there are less chunks than available threads. You can avoid it by setting the environment variable OMP_NUM_THREADS=2.\n",
      "  warnings.warn(\n"
     ]
    },
    {
     "data": {
      "image/png": "[encoded data removed]",
      "text/plain": [
       "<Figure size 432x288 with 1 Axes>"
      ]
     },
     "metadata": {
      "needs_background": "light"
     },
     "output_type": "display_data"
    }
   ],
   "source": [
    "from sklearn.cluster import KMeans\n",
    "\n",
    "wcss = []\n",
    "for i in range(1,11):\n",
    "    kmeans = KMeans(n_clusters=i,init='k-means++',random_state=1)\n",
    "    kmeans.fit(X)\n",
    "    wcss.append(kmeans.inertia_)\n",
    "    \n",
    "plt.plot(range(1,11),wcss)\n",
    "plt.title('The Elow Method')\n",
    "plt.xlabel('Number of Clusters')\n",
    "plt.ylabel('WCSS')\n",
    "plt.show()"
   ]
  },
  {
   "cell_type": "markdown",
   "id": "6d84bfc9",
   "metadata": {},
   "source": [
    "n_clusters=4 is sufficient so take 4 clusters"
   ]
  },
  {
   "cell_type": "code",
   "execution_count": 7,
   "id": "70918062",
   "metadata": {},
   "outputs": [
    {
     "data": {
      "text/plain": [
       "KMeans(n_clusters=4)"
      ]
     },
     "execution_count": 7,
     "metadata": {},
     "output_type": "execute_result"
    }
   ],
   "source": [
    "from sklearn.cluster import KMeans\n",
    "kmeans = KMeans(n_clusters=4)\n",
    "kmeans.fit(X)"
   ]
  },
  {
   "cell_type": "code",
   "execution_count": 8,
   "id": "40c57e9a",
   "metadata": {},
   "outputs": [],
   "source": [
    "y_kmeans = kmeans.predict(X)"
   ]
  },
  {
   "cell_type": "code",
   "execution_count": 9,
   "id": "929c1afa",
   "metadata": {
    "scrolled": false
   },
   "outputs": [
    {
     "data": {
      "image/png": "[encoded data removed]",
      "text/plain": [
       "<Figure size 1080x576 with 1 Axes>"
      ]
     },
     "metadata": {
      "needs_background": "light"
     },
     "output_type": "display_data"
    }
   ],
   "source": [
    "plt.figure(figsize=(15,8,))\n",
    "plt.scatter(X[:, 0], X[:, 1], c=y_kmeans, s=50, cmap='viridis')\n",
    "centers = kmeans.cluster_centers_\n",
    "plt.scatter(centers[:, 0], centers[:, 1], c='black', s=200, alpha=0.5);"
   ]
  },
  {
   "cell_type": "code",
   "execution_count": 10,
   "id": "20c21574",
   "metadata": {},
   "outputs": [
    {
     "ename": "SyntaxError",
     "evalue": "trailing comma not allowed without surrounding parentheses (Temp/ipykernel_8316/3741857303.py, line 1)",
     "output_type": "error",
     "traceback": [
      "\u001b[1;36m  File \u001b[1;32m\"C:\\Users\\vbkat\\AppData\\Local\\Temp/ipykernel_8316/3741857303.py\"\u001b[1;36m, line \u001b[1;32m1\u001b[0m\n\u001b[1;33m    from sklearn.metrics import accuracy_score,\u001b[0m\n\u001b[1;37m                                               ^\u001b[0m\n\u001b[1;31mSyntaxError\u001b[0m\u001b[1;31m:\u001b[0m trailing comma not allowed without surrounding parentheses\n"
     ]
    }
   ],
   "source": [
    "from sklearn.metrics import accuracy_score,\n",
    "accuracy_score(y,y_kmeans)"
   ]
  },
  {
   "cell_type": "code",
   "execution_count": null,
   "id": "3070f6e1",
   "metadata": {},
   "outputs": [],
   "source": [
    "from sklearn.metrics import silhouette_score\n",
    "score = silhouette_score(X, kmeans.labels_, metric='euclidean')\n",
    "score"
   ]
  },
  {
   "cell_type": "code",
   "execution_count": null,
   "id": "c1a3789f",
   "metadata": {},
   "outputs": [],
   "source": []
  }
 ],
 "metadata": {
  "kernelspec": {
   "display_name": "Python 3 (ipykernel)",
   "language": "python",
   "name": "python3"
  },
  "language_info": {
   "codemirror_mode": {
    "name": "ipython",
    "version": 3
   },
   "file_extension": ".py",
   "mimetype": "text/x-python",
   "name": "python",
   "nbconvert_exporter": "python",
   "pygments_lexer": "ipython3",
   "version": "3.9.7"
  }
 },
 "nbformat": 4,
 "nbformat_minor": 5
}
