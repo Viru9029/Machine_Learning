{
 "cells": [
  {
   "cell_type": "code",
   "execution_count": 19,
   "id": "bb18d5fc",
   "metadata": {},
   "outputs": [],
   "source": [
    "import numpy as np\n",
    "import pandas as pd\n",
    "import matplotlib.pyplot as plt\n",
    "import seaborn as sns"
   ]
  },
  {
   "cell_type": "code",
   "execution_count": 20,
   "id": "776cd808",
   "metadata": {},
   "outputs": [
    {
     "data": {
      "text/html": [
       "<div>\n",
       "<style scoped>\n",
       "    .dataframe tbody tr th:only-of-type {\n",
       "        vertical-align: middle;\n",
       "    }\n",
       "\n",
       "    .dataframe tbody tr th {\n",
       "        vertical-align: top;\n",
       "    }\n",
       "\n",
       "    .dataframe thead th {\n",
       "        text-align: right;\n",
       "    }\n",
       "</style>\n",
       "<table border=\"1\" class=\"dataframe\">\n",
       "  <thead>\n",
       "    <tr style=\"text-align: right;\">\n",
       "      <th></th>\n",
       "      <th>meanfreq</th>\n",
       "      <th>sd</th>\n",
       "      <th>median</th>\n",
       "      <th>Q25</th>\n",
       "      <th>Q75</th>\n",
       "      <th>IQR</th>\n",
       "      <th>skew</th>\n",
       "      <th>kurt</th>\n",
       "      <th>sp.ent</th>\n",
       "      <th>sfm</th>\n",
       "      <th>...</th>\n",
       "      <th>centroid</th>\n",
       "      <th>meanfun</th>\n",
       "      <th>minfun</th>\n",
       "      <th>maxfun</th>\n",
       "      <th>meandom</th>\n",
       "      <th>mindom</th>\n",
       "      <th>maxdom</th>\n",
       "      <th>dfrange</th>\n",
       "      <th>modindx</th>\n",
       "      <th>label</th>\n",
       "    </tr>\n",
       "  </thead>\n",
       "  <tbody>\n",
       "    <tr>\n",
       "      <th>0</th>\n",
       "      <td>0.059781</td>\n",
       "      <td>0.064241</td>\n",
       "      <td>0.032027</td>\n",
       "      <td>0.015071</td>\n",
       "      <td>0.090193</td>\n",
       "      <td>0.075122</td>\n",
       "      <td>12.863462</td>\n",
       "      <td>274.402906</td>\n",
       "      <td>0.893369</td>\n",
       "      <td>0.491918</td>\n",
       "      <td>...</td>\n",
       "      <td>0.059781</td>\n",
       "      <td>0.084279</td>\n",
       "      <td>0.015702</td>\n",
       "      <td>0.275862</td>\n",
       "      <td>0.007812</td>\n",
       "      <td>0.007812</td>\n",
       "      <td>0.007812</td>\n",
       "      <td>0.000000</td>\n",
       "      <td>0.000000</td>\n",
       "      <td>male</td>\n",
       "    </tr>\n",
       "    <tr>\n",
       "      <th>1</th>\n",
       "      <td>0.066009</td>\n",
       "      <td>0.067310</td>\n",
       "      <td>0.040229</td>\n",
       "      <td>0.019414</td>\n",
       "      <td>0.092666</td>\n",
       "      <td>0.073252</td>\n",
       "      <td>22.423285</td>\n",
       "      <td>634.613855</td>\n",
       "      <td>0.892193</td>\n",
       "      <td>0.513724</td>\n",
       "      <td>...</td>\n",
       "      <td>0.066009</td>\n",
       "      <td>0.107937</td>\n",
       "      <td>0.015826</td>\n",
       "      <td>0.250000</td>\n",
       "      <td>0.009014</td>\n",
       "      <td>0.007812</td>\n",
       "      <td>0.054688</td>\n",
       "      <td>0.046875</td>\n",
       "      <td>0.052632</td>\n",
       "      <td>male</td>\n",
       "    </tr>\n",
       "    <tr>\n",
       "      <th>2</th>\n",
       "      <td>0.077316</td>\n",
       "      <td>0.083829</td>\n",
       "      <td>0.036718</td>\n",
       "      <td>0.008701</td>\n",
       "      <td>0.131908</td>\n",
       "      <td>0.123207</td>\n",
       "      <td>30.757155</td>\n",
       "      <td>1024.927705</td>\n",
       "      <td>0.846389</td>\n",
       "      <td>0.478905</td>\n",
       "      <td>...</td>\n",
       "      <td>0.077316</td>\n",
       "      <td>0.098706</td>\n",
       "      <td>0.015656</td>\n",
       "      <td>0.271186</td>\n",
       "      <td>0.007990</td>\n",
       "      <td>0.007812</td>\n",
       "      <td>0.015625</td>\n",
       "      <td>0.007812</td>\n",
       "      <td>0.046512</td>\n",
       "      <td>male</td>\n",
       "    </tr>\n",
       "    <tr>\n",
       "      <th>3</th>\n",
       "      <td>0.151228</td>\n",
       "      <td>0.072111</td>\n",
       "      <td>0.158011</td>\n",
       "      <td>0.096582</td>\n",
       "      <td>0.207955</td>\n",
       "      <td>0.111374</td>\n",
       "      <td>1.232831</td>\n",
       "      <td>4.177296</td>\n",
       "      <td>0.963322</td>\n",
       "      <td>0.727232</td>\n",
       "      <td>...</td>\n",
       "      <td>0.151228</td>\n",
       "      <td>0.088965</td>\n",
       "      <td>0.017798</td>\n",
       "      <td>0.250000</td>\n",
       "      <td>0.201497</td>\n",
       "      <td>0.007812</td>\n",
       "      <td>0.562500</td>\n",
       "      <td>0.554688</td>\n",
       "      <td>0.247119</td>\n",
       "      <td>male</td>\n",
       "    </tr>\n",
       "    <tr>\n",
       "      <th>4</th>\n",
       "      <td>0.135120</td>\n",
       "      <td>0.079146</td>\n",
       "      <td>0.124656</td>\n",
       "      <td>0.078720</td>\n",
       "      <td>0.206045</td>\n",
       "      <td>0.127325</td>\n",
       "      <td>1.101174</td>\n",
       "      <td>4.333713</td>\n",
       "      <td>0.971955</td>\n",
       "      <td>0.783568</td>\n",
       "      <td>...</td>\n",
       "      <td>0.135120</td>\n",
       "      <td>0.106398</td>\n",
       "      <td>0.016931</td>\n",
       "      <td>0.266667</td>\n",
       "      <td>0.712812</td>\n",
       "      <td>0.007812</td>\n",
       "      <td>5.484375</td>\n",
       "      <td>5.476562</td>\n",
       "      <td>0.208274</td>\n",
       "      <td>male</td>\n",
       "    </tr>\n",
       "  </tbody>\n",
       "</table>\n",
       "<p>5 rows × 21 columns</p>\n",
       "</div>"
      ],
      "text/plain": [
       "   meanfreq        sd    median       Q25       Q75       IQR       skew  \\\n",
       "0  0.059781  0.064241  0.032027  0.015071  0.090193  0.075122  12.863462   \n",
       "1  0.066009  0.067310  0.040229  0.019414  0.092666  0.073252  22.423285   \n",
       "2  0.077316  0.083829  0.036718  0.008701  0.131908  0.123207  30.757155   \n",
       "3  0.151228  0.072111  0.158011  0.096582  0.207955  0.111374   1.232831   \n",
       "4  0.135120  0.079146  0.124656  0.078720  0.206045  0.127325   1.101174   \n",
       "\n",
       "          kurt    sp.ent       sfm  ...  centroid   meanfun    minfun  \\\n",
       "0   274.402906  0.893369  0.491918  ...  0.059781  0.084279  0.015702   \n",
       "1   634.613855  0.892193  0.513724  ...  0.066009  0.107937  0.015826   \n",
       "2  1024.927705  0.846389  0.478905  ...  0.077316  0.098706  0.015656   \n",
       "3     4.177296  0.963322  0.727232  ...  0.151228  0.088965  0.017798   \n",
       "4     4.333713  0.971955  0.783568  ...  0.135120  0.106398  0.016931   \n",
       "\n",
       "     maxfun   meandom    mindom    maxdom   dfrange   modindx  label  \n",
       "0  0.275862  0.007812  0.007812  0.007812  0.000000  0.000000   male  \n",
       "1  0.250000  0.009014  0.007812  0.054688  0.046875  0.052632   male  \n",
       "2  0.271186  0.007990  0.007812  0.015625  0.007812  0.046512   male  \n",
       "3  0.250000  0.201497  0.007812  0.562500  0.554688  0.247119   male  \n",
       "4  0.266667  0.712812  0.007812  5.484375  5.476562  0.208274   male  \n",
       "\n",
       "[5 rows x 21 columns]"
      ]
     },
     "execution_count": 20,
     "metadata": {},
     "output_type": "execute_result"
    }
   ],
   "source": [
    "df = pd.read_csv('voice.csv')\n",
    "df.head()"
   ]
  },
  {
   "cell_type": "code",
   "execution_count": 21,
   "id": "3aba3826",
   "metadata": {},
   "outputs": [
    {
     "data": {
      "text/plain": [
       "Index(['meanfreq', 'sd', 'median', 'Q25', 'Q75', 'IQR', 'skew', 'kurt',\n",
       "       'sp.ent', 'sfm', 'mode', 'centroid', 'meanfun', 'minfun', 'maxfun',\n",
       "       'meandom', 'mindom', 'maxdom', 'dfrange', 'modindx', 'label'],\n",
       "      dtype='object')"
      ]
     },
     "execution_count": 21,
     "metadata": {},
     "output_type": "execute_result"
    }
   ],
   "source": [
    "df.columns"
   ]
  },
  {
   "cell_type": "code",
   "execution_count": 22,
   "id": "47b47047",
   "metadata": {},
   "outputs": [
    {
     "data": {
      "text/plain": [
       "(3168, 21)"
      ]
     },
     "execution_count": 22,
     "metadata": {},
     "output_type": "execute_result"
    }
   ],
   "source": [
    "df.shape"
   ]
  },
  {
   "cell_type": "code",
   "execution_count": 23,
   "id": "4e0dc869",
   "metadata": {},
   "outputs": [
    {
     "data": {
      "text/html": [
       "<div>\n",
       "<style scoped>\n",
       "    .dataframe tbody tr th:only-of-type {\n",
       "        vertical-align: middle;\n",
       "    }\n",
       "\n",
       "    .dataframe tbody tr th {\n",
       "        vertical-align: top;\n",
       "    }\n",
       "\n",
       "    .dataframe thead th {\n",
       "        text-align: right;\n",
       "    }\n",
       "</style>\n",
       "<table border=\"1\" class=\"dataframe\">\n",
       "  <thead>\n",
       "    <tr style=\"text-align: right;\">\n",
       "      <th></th>\n",
       "      <th>meanfreq</th>\n",
       "      <th>sd</th>\n",
       "      <th>median</th>\n",
       "      <th>Q25</th>\n",
       "      <th>Q75</th>\n",
       "      <th>IQR</th>\n",
       "      <th>skew</th>\n",
       "      <th>kurt</th>\n",
       "      <th>sp.ent</th>\n",
       "      <th>sfm</th>\n",
       "      <th>...</th>\n",
       "      <th>centroid</th>\n",
       "      <th>meanfun</th>\n",
       "      <th>minfun</th>\n",
       "      <th>maxfun</th>\n",
       "      <th>meandom</th>\n",
       "      <th>mindom</th>\n",
       "      <th>maxdom</th>\n",
       "      <th>dfrange</th>\n",
       "      <th>modindx</th>\n",
       "      <th>label</th>\n",
       "    </tr>\n",
       "  </thead>\n",
       "  <tbody>\n",
       "    <tr>\n",
       "      <th>3163</th>\n",
       "      <td>0.131884</td>\n",
       "      <td>0.084734</td>\n",
       "      <td>0.153707</td>\n",
       "      <td>0.049285</td>\n",
       "      <td>0.201144</td>\n",
       "      <td>0.151859</td>\n",
       "      <td>1.762129</td>\n",
       "      <td>6.630383</td>\n",
       "      <td>0.962934</td>\n",
       "      <td>0.763182</td>\n",
       "      <td>...</td>\n",
       "      <td>0.131884</td>\n",
       "      <td>0.182790</td>\n",
       "      <td>0.083770</td>\n",
       "      <td>0.262295</td>\n",
       "      <td>0.832899</td>\n",
       "      <td>0.007812</td>\n",
       "      <td>4.210938</td>\n",
       "      <td>4.203125</td>\n",
       "      <td>0.161929</td>\n",
       "      <td>female</td>\n",
       "    </tr>\n",
       "    <tr>\n",
       "      <th>3164</th>\n",
       "      <td>0.116221</td>\n",
       "      <td>0.089221</td>\n",
       "      <td>0.076758</td>\n",
       "      <td>0.042718</td>\n",
       "      <td>0.204911</td>\n",
       "      <td>0.162193</td>\n",
       "      <td>0.693730</td>\n",
       "      <td>2.503954</td>\n",
       "      <td>0.960716</td>\n",
       "      <td>0.709570</td>\n",
       "      <td>...</td>\n",
       "      <td>0.116221</td>\n",
       "      <td>0.188980</td>\n",
       "      <td>0.034409</td>\n",
       "      <td>0.275862</td>\n",
       "      <td>0.909856</td>\n",
       "      <td>0.039062</td>\n",
       "      <td>3.679688</td>\n",
       "      <td>3.640625</td>\n",
       "      <td>0.277897</td>\n",
       "      <td>female</td>\n",
       "    </tr>\n",
       "    <tr>\n",
       "      <th>3165</th>\n",
       "      <td>0.142056</td>\n",
       "      <td>0.095798</td>\n",
       "      <td>0.183731</td>\n",
       "      <td>0.033424</td>\n",
       "      <td>0.224360</td>\n",
       "      <td>0.190936</td>\n",
       "      <td>1.876502</td>\n",
       "      <td>6.604509</td>\n",
       "      <td>0.946854</td>\n",
       "      <td>0.654196</td>\n",
       "      <td>...</td>\n",
       "      <td>0.142056</td>\n",
       "      <td>0.209918</td>\n",
       "      <td>0.039506</td>\n",
       "      <td>0.275862</td>\n",
       "      <td>0.494271</td>\n",
       "      <td>0.007812</td>\n",
       "      <td>2.937500</td>\n",
       "      <td>2.929688</td>\n",
       "      <td>0.194759</td>\n",
       "      <td>female</td>\n",
       "    </tr>\n",
       "    <tr>\n",
       "      <th>3166</th>\n",
       "      <td>0.143659</td>\n",
       "      <td>0.090628</td>\n",
       "      <td>0.184976</td>\n",
       "      <td>0.043508</td>\n",
       "      <td>0.219943</td>\n",
       "      <td>0.176435</td>\n",
       "      <td>1.591065</td>\n",
       "      <td>5.388298</td>\n",
       "      <td>0.950436</td>\n",
       "      <td>0.675470</td>\n",
       "      <td>...</td>\n",
       "      <td>0.143659</td>\n",
       "      <td>0.172375</td>\n",
       "      <td>0.034483</td>\n",
       "      <td>0.250000</td>\n",
       "      <td>0.791360</td>\n",
       "      <td>0.007812</td>\n",
       "      <td>3.593750</td>\n",
       "      <td>3.585938</td>\n",
       "      <td>0.311002</td>\n",
       "      <td>female</td>\n",
       "    </tr>\n",
       "    <tr>\n",
       "      <th>3167</th>\n",
       "      <td>0.165509</td>\n",
       "      <td>0.092884</td>\n",
       "      <td>0.183044</td>\n",
       "      <td>0.070072</td>\n",
       "      <td>0.250827</td>\n",
       "      <td>0.180756</td>\n",
       "      <td>1.705029</td>\n",
       "      <td>5.769115</td>\n",
       "      <td>0.938829</td>\n",
       "      <td>0.601529</td>\n",
       "      <td>...</td>\n",
       "      <td>0.165509</td>\n",
       "      <td>0.185607</td>\n",
       "      <td>0.062257</td>\n",
       "      <td>0.271186</td>\n",
       "      <td>0.227022</td>\n",
       "      <td>0.007812</td>\n",
       "      <td>0.554688</td>\n",
       "      <td>0.546875</td>\n",
       "      <td>0.350000</td>\n",
       "      <td>female</td>\n",
       "    </tr>\n",
       "  </tbody>\n",
       "</table>\n",
       "<p>5 rows × 21 columns</p>\n",
       "</div>"
      ],
      "text/plain": [
       "      meanfreq        sd    median       Q25       Q75       IQR      skew  \\\n",
       "3163  0.131884  0.084734  0.153707  0.049285  0.201144  0.151859  1.762129   \n",
       "3164  0.116221  0.089221  0.076758  0.042718  0.204911  0.162193  0.693730   \n",
       "3165  0.142056  0.095798  0.183731  0.033424  0.224360  0.190936  1.876502   \n",
       "3166  0.143659  0.090628  0.184976  0.043508  0.219943  0.176435  1.591065   \n",
       "3167  0.165509  0.092884  0.183044  0.070072  0.250827  0.180756  1.705029   \n",
       "\n",
       "          kurt    sp.ent       sfm  ...  centroid   meanfun    minfun  \\\n",
       "3163  6.630383  0.962934  0.763182  ...  0.131884  0.182790  0.083770   \n",
       "3164  2.503954  0.960716  0.709570  ...  0.116221  0.188980  0.034409   \n",
       "3165  6.604509  0.946854  0.654196  ...  0.142056  0.209918  0.039506   \n",
       "3166  5.388298  0.950436  0.675470  ...  0.143659  0.172375  0.034483   \n",
       "3167  5.769115  0.938829  0.601529  ...  0.165509  0.185607  0.062257   \n",
       "\n",
       "        maxfun   meandom    mindom    maxdom   dfrange   modindx   label  \n",
       "3163  0.262295  0.832899  0.007812  4.210938  4.203125  0.161929  female  \n",
       "3164  0.275862  0.909856  0.039062  3.679688  3.640625  0.277897  female  \n",
       "3165  0.275862  0.494271  0.007812  2.937500  2.929688  0.194759  female  \n",
       "3166  0.250000  0.791360  0.007812  3.593750  3.585938  0.311002  female  \n",
       "3167  0.271186  0.227022  0.007812  0.554688  0.546875  0.350000  female  \n",
       "\n",
       "[5 rows x 21 columns]"
      ]
     },
     "execution_count": 23,
     "metadata": {},
     "output_type": "execute_result"
    }
   ],
   "source": [
    "df.tail()"
   ]
  },
  {
   "cell_type": "code",
   "execution_count": 24,
   "id": "5d685772",
   "metadata": {},
   "outputs": [
    {
     "data": {
      "text/html": [
       "<div>\n",
       "<style scoped>\n",
       "    .dataframe tbody tr th:only-of-type {\n",
       "        vertical-align: middle;\n",
       "    }\n",
       "\n",
       "    .dataframe tbody tr th {\n",
       "        vertical-align: top;\n",
       "    }\n",
       "\n",
       "    .dataframe thead th {\n",
       "        text-align: right;\n",
       "    }\n",
       "</style>\n",
       "<table border=\"1\" class=\"dataframe\">\n",
       "  <thead>\n",
       "    <tr style=\"text-align: right;\">\n",
       "      <th></th>\n",
       "      <th>meanfreq</th>\n",
       "      <th>sd</th>\n",
       "      <th>median</th>\n",
       "      <th>Q25</th>\n",
       "      <th>Q75</th>\n",
       "      <th>IQR</th>\n",
       "      <th>skew</th>\n",
       "      <th>kurt</th>\n",
       "      <th>sp.ent</th>\n",
       "      <th>sfm</th>\n",
       "      <th>...</th>\n",
       "      <th>centroid</th>\n",
       "      <th>meanfun</th>\n",
       "      <th>minfun</th>\n",
       "      <th>maxfun</th>\n",
       "      <th>meandom</th>\n",
       "      <th>mindom</th>\n",
       "      <th>maxdom</th>\n",
       "      <th>dfrange</th>\n",
       "      <th>modindx</th>\n",
       "      <th>label</th>\n",
       "    </tr>\n",
       "  </thead>\n",
       "  <tbody>\n",
       "    <tr>\n",
       "      <th>298</th>\n",
       "      <td>0.213732</td>\n",
       "      <td>0.057705</td>\n",
       "      <td>0.242573</td>\n",
       "      <td>0.141701</td>\n",
       "      <td>0.257984</td>\n",
       "      <td>0.116283</td>\n",
       "      <td>2.113598</td>\n",
       "      <td>7.890927</td>\n",
       "      <td>0.859712</td>\n",
       "      <td>0.084934</td>\n",
       "      <td>...</td>\n",
       "      <td>0.213732</td>\n",
       "      <td>0.133667</td>\n",
       "      <td>0.028319</td>\n",
       "      <td>0.253968</td>\n",
       "      <td>0.818125</td>\n",
       "      <td>0.132812</td>\n",
       "      <td>4.164062</td>\n",
       "      <td>4.031250</td>\n",
       "      <td>0.229051</td>\n",
       "      <td>male</td>\n",
       "    </tr>\n",
       "    <tr>\n",
       "      <th>2403</th>\n",
       "      <td>0.212190</td>\n",
       "      <td>0.043190</td>\n",
       "      <td>0.215153</td>\n",
       "      <td>0.188957</td>\n",
       "      <td>0.245644</td>\n",
       "      <td>0.056687</td>\n",
       "      <td>1.862573</td>\n",
       "      <td>6.109790</td>\n",
       "      <td>0.877669</td>\n",
       "      <td>0.314398</td>\n",
       "      <td>...</td>\n",
       "      <td>0.212190</td>\n",
       "      <td>0.139942</td>\n",
       "      <td>0.047198</td>\n",
       "      <td>0.279070</td>\n",
       "      <td>1.925551</td>\n",
       "      <td>0.023438</td>\n",
       "      <td>15.609375</td>\n",
       "      <td>15.585938</td>\n",
       "      <td>0.121344</td>\n",
       "      <td>female</td>\n",
       "    </tr>\n",
       "  </tbody>\n",
       "</table>\n",
       "<p>2 rows × 21 columns</p>\n",
       "</div>"
      ],
      "text/plain": [
       "      meanfreq        sd    median       Q25       Q75       IQR      skew  \\\n",
       "298   0.213732  0.057705  0.242573  0.141701  0.257984  0.116283  2.113598   \n",
       "2403  0.212190  0.043190  0.215153  0.188957  0.245644  0.056687  1.862573   \n",
       "\n",
       "          kurt    sp.ent       sfm  ...  centroid   meanfun    minfun  \\\n",
       "298   7.890927  0.859712  0.084934  ...  0.213732  0.133667  0.028319   \n",
       "2403  6.109790  0.877669  0.314398  ...  0.212190  0.139942  0.047198   \n",
       "\n",
       "        maxfun   meandom    mindom     maxdom    dfrange   modindx   label  \n",
       "298   0.253968  0.818125  0.132812   4.164062   4.031250  0.229051    male  \n",
       "2403  0.279070  1.925551  0.023438  15.609375  15.585938  0.121344  female  \n",
       "\n",
       "[2 rows x 21 columns]"
      ]
     },
     "execution_count": 24,
     "metadata": {},
     "output_type": "execute_result"
    }
   ],
   "source": [
    "df[df.duplicated()]"
   ]
  },
  {
   "cell_type": "code",
   "execution_count": 25,
   "id": "3886d20c",
   "metadata": {},
   "outputs": [],
   "source": [
    "df.drop_duplicates(inplace=True)"
   ]
  },
  {
   "cell_type": "code",
   "execution_count": 26,
   "id": "fbab6cd7",
   "metadata": {},
   "outputs": [
    {
     "data": {
      "text/html": [
       "<div>\n",
       "<style scoped>\n",
       "    .dataframe tbody tr th:only-of-type {\n",
       "        vertical-align: middle;\n",
       "    }\n",
       "\n",
       "    .dataframe tbody tr th {\n",
       "        vertical-align: top;\n",
       "    }\n",
       "\n",
       "    .dataframe thead th {\n",
       "        text-align: right;\n",
       "    }\n",
       "</style>\n",
       "<table border=\"1\" class=\"dataframe\">\n",
       "  <thead>\n",
       "    <tr style=\"text-align: right;\">\n",
       "      <th></th>\n",
       "      <th>meanfreq</th>\n",
       "      <th>sd</th>\n",
       "      <th>median</th>\n",
       "      <th>Q25</th>\n",
       "      <th>Q75</th>\n",
       "      <th>IQR</th>\n",
       "      <th>skew</th>\n",
       "      <th>kurt</th>\n",
       "      <th>sp.ent</th>\n",
       "      <th>sfm</th>\n",
       "      <th>...</th>\n",
       "      <th>centroid</th>\n",
       "      <th>meanfun</th>\n",
       "      <th>minfun</th>\n",
       "      <th>maxfun</th>\n",
       "      <th>meandom</th>\n",
       "      <th>mindom</th>\n",
       "      <th>maxdom</th>\n",
       "      <th>dfrange</th>\n",
       "      <th>modindx</th>\n",
       "      <th>label</th>\n",
       "    </tr>\n",
       "  </thead>\n",
       "  <tbody>\n",
       "  </tbody>\n",
       "</table>\n",
       "<p>0 rows × 21 columns</p>\n",
       "</div>"
      ],
      "text/plain": [
       "Empty DataFrame\n",
       "Columns: [meanfreq, sd, median, Q25, Q75, IQR, skew, kurt, sp.ent, sfm, mode, centroid, meanfun, minfun, maxfun, meandom, mindom, maxdom, dfrange, modindx, label]\n",
       "Index: []\n",
       "\n",
       "[0 rows x 21 columns]"
      ]
     },
     "execution_count": 26,
     "metadata": {},
     "output_type": "execute_result"
    }
   ],
   "source": [
    "df[df.duplicated()]"
   ]
  },
  {
   "cell_type": "code",
   "execution_count": 27,
   "id": "491e5a38",
   "metadata": {},
   "outputs": [
    {
     "name": "stdout",
     "output_type": "stream",
     "text": [
      "<class 'pandas.core.frame.DataFrame'>\n",
      "Int64Index: 3166 entries, 0 to 3167\n",
      "Data columns (total 21 columns):\n",
      " #   Column    Non-Null Count  Dtype  \n",
      "---  ------    --------------  -----  \n",
      " 0   meanfreq  3166 non-null   float64\n",
      " 1   sd        3166 non-null   float64\n",
      " 2   median    3166 non-null   float64\n",
      " 3   Q25       3166 non-null   float64\n",
      " 4   Q75       3166 non-null   float64\n",
      " 5   IQR       3166 non-null   float64\n",
      " 6   skew      3166 non-null   float64\n",
      " 7   kurt      3166 non-null   float64\n",
      " 8   sp.ent    3166 non-null   float64\n",
      " 9   sfm       3166 non-null   float64\n",
      " 10  mode      3166 non-null   float64\n",
      " 11  centroid  3166 non-null   float64\n",
      " 12  meanfun   3166 non-null   float64\n",
      " 13  minfun    3166 non-null   float64\n",
      " 14  maxfun    3166 non-null   float64\n",
      " 15  meandom   3166 non-null   float64\n",
      " 16  mindom    3166 non-null   float64\n",
      " 17  maxdom    3166 non-null   float64\n",
      " 18  dfrange   3166 non-null   float64\n",
      " 19  modindx   3166 non-null   float64\n",
      " 20  label     3166 non-null   object \n",
      "dtypes: float64(20), object(1)\n",
      "memory usage: 544.2+ KB\n"
     ]
    }
   ],
   "source": [
    "df.info()"
   ]
  },
  {
   "cell_type": "code",
   "execution_count": 28,
   "id": "4cb2c76c",
   "metadata": {},
   "outputs": [
    {
     "data": {
      "text/plain": [
       "meanfreq    0\n",
       "sd          0\n",
       "median      0\n",
       "Q25         0\n",
       "Q75         0\n",
       "IQR         0\n",
       "skew        0\n",
       "kurt        0\n",
       "sp.ent      0\n",
       "sfm         0\n",
       "mode        0\n",
       "centroid    0\n",
       "meanfun     0\n",
       "minfun      0\n",
       "maxfun      0\n",
       "meandom     0\n",
       "mindom      0\n",
       "maxdom      0\n",
       "dfrange     0\n",
       "modindx     0\n",
       "label       0\n",
       "dtype: int64"
      ]
     },
     "execution_count": 28,
     "metadata": {},
     "output_type": "execute_result"
    }
   ],
   "source": [
    "df.isnull().sum()"
   ]
  },
  {
   "cell_type": "code",
   "execution_count": 29,
   "id": "00e138be",
   "metadata": {},
   "outputs": [
    {
     "data": {
      "text/plain": [
       "array(['male', 'female'], dtype=object)"
      ]
     },
     "execution_count": 29,
     "metadata": {},
     "output_type": "execute_result"
    }
   ],
   "source": [
    "df['label'].unique()"
   ]
  },
  {
   "cell_type": "code",
   "execution_count": 30,
   "id": "5e96c82b",
   "metadata": {},
   "outputs": [
    {
     "data": {
      "text/html": [
       "<div>\n",
       "<style scoped>\n",
       "    .dataframe tbody tr th:only-of-type {\n",
       "        vertical-align: middle;\n",
       "    }\n",
       "\n",
       "    .dataframe tbody tr th {\n",
       "        vertical-align: top;\n",
       "    }\n",
       "\n",
       "    .dataframe thead th {\n",
       "        text-align: right;\n",
       "    }\n",
       "</style>\n",
       "<table border=\"1\" class=\"dataframe\">\n",
       "  <thead>\n",
       "    <tr style=\"text-align: right;\">\n",
       "      <th></th>\n",
       "      <th>meanfreq</th>\n",
       "      <th>sd</th>\n",
       "      <th>median</th>\n",
       "      <th>Q25</th>\n",
       "      <th>Q75</th>\n",
       "      <th>IQR</th>\n",
       "      <th>skew</th>\n",
       "      <th>kurt</th>\n",
       "      <th>sp.ent</th>\n",
       "      <th>sfm</th>\n",
       "      <th>...</th>\n",
       "      <th>centroid</th>\n",
       "      <th>meanfun</th>\n",
       "      <th>minfun</th>\n",
       "      <th>maxfun</th>\n",
       "      <th>meandom</th>\n",
       "      <th>mindom</th>\n",
       "      <th>maxdom</th>\n",
       "      <th>dfrange</th>\n",
       "      <th>modindx</th>\n",
       "      <th>label</th>\n",
       "    </tr>\n",
       "  </thead>\n",
       "  <tbody>\n",
       "    <tr>\n",
       "      <th>0</th>\n",
       "      <td>0.059781</td>\n",
       "      <td>0.064241</td>\n",
       "      <td>0.032027</td>\n",
       "      <td>0.015071</td>\n",
       "      <td>0.090193</td>\n",
       "      <td>0.075122</td>\n",
       "      <td>12.863462</td>\n",
       "      <td>274.402906</td>\n",
       "      <td>0.893369</td>\n",
       "      <td>0.491918</td>\n",
       "      <td>...</td>\n",
       "      <td>0.059781</td>\n",
       "      <td>0.084279</td>\n",
       "      <td>0.015702</td>\n",
       "      <td>0.275862</td>\n",
       "      <td>0.007812</td>\n",
       "      <td>0.007812</td>\n",
       "      <td>0.007812</td>\n",
       "      <td>0.000000</td>\n",
       "      <td>0.000000</td>\n",
       "      <td>1</td>\n",
       "    </tr>\n",
       "    <tr>\n",
       "      <th>1</th>\n",
       "      <td>0.066009</td>\n",
       "      <td>0.067310</td>\n",
       "      <td>0.040229</td>\n",
       "      <td>0.019414</td>\n",
       "      <td>0.092666</td>\n",
       "      <td>0.073252</td>\n",
       "      <td>22.423285</td>\n",
       "      <td>634.613855</td>\n",
       "      <td>0.892193</td>\n",
       "      <td>0.513724</td>\n",
       "      <td>...</td>\n",
       "      <td>0.066009</td>\n",
       "      <td>0.107937</td>\n",
       "      <td>0.015826</td>\n",
       "      <td>0.250000</td>\n",
       "      <td>0.009014</td>\n",
       "      <td>0.007812</td>\n",
       "      <td>0.054688</td>\n",
       "      <td>0.046875</td>\n",
       "      <td>0.052632</td>\n",
       "      <td>1</td>\n",
       "    </tr>\n",
       "    <tr>\n",
       "      <th>2</th>\n",
       "      <td>0.077316</td>\n",
       "      <td>0.083829</td>\n",
       "      <td>0.036718</td>\n",
       "      <td>0.008701</td>\n",
       "      <td>0.131908</td>\n",
       "      <td>0.123207</td>\n",
       "      <td>30.757155</td>\n",
       "      <td>1024.927705</td>\n",
       "      <td>0.846389</td>\n",
       "      <td>0.478905</td>\n",
       "      <td>...</td>\n",
       "      <td>0.077316</td>\n",
       "      <td>0.098706</td>\n",
       "      <td>0.015656</td>\n",
       "      <td>0.271186</td>\n",
       "      <td>0.007990</td>\n",
       "      <td>0.007812</td>\n",
       "      <td>0.015625</td>\n",
       "      <td>0.007812</td>\n",
       "      <td>0.046512</td>\n",
       "      <td>1</td>\n",
       "    </tr>\n",
       "    <tr>\n",
       "      <th>3</th>\n",
       "      <td>0.151228</td>\n",
       "      <td>0.072111</td>\n",
       "      <td>0.158011</td>\n",
       "      <td>0.096582</td>\n",
       "      <td>0.207955</td>\n",
       "      <td>0.111374</td>\n",
       "      <td>1.232831</td>\n",
       "      <td>4.177296</td>\n",
       "      <td>0.963322</td>\n",
       "      <td>0.727232</td>\n",
       "      <td>...</td>\n",
       "      <td>0.151228</td>\n",
       "      <td>0.088965</td>\n",
       "      <td>0.017798</td>\n",
       "      <td>0.250000</td>\n",
       "      <td>0.201497</td>\n",
       "      <td>0.007812</td>\n",
       "      <td>0.562500</td>\n",
       "      <td>0.554688</td>\n",
       "      <td>0.247119</td>\n",
       "      <td>1</td>\n",
       "    </tr>\n",
       "    <tr>\n",
       "      <th>4</th>\n",
       "      <td>0.135120</td>\n",
       "      <td>0.079146</td>\n",
       "      <td>0.124656</td>\n",
       "      <td>0.078720</td>\n",
       "      <td>0.206045</td>\n",
       "      <td>0.127325</td>\n",
       "      <td>1.101174</td>\n",
       "      <td>4.333713</td>\n",
       "      <td>0.971955</td>\n",
       "      <td>0.783568</td>\n",
       "      <td>...</td>\n",
       "      <td>0.135120</td>\n",
       "      <td>0.106398</td>\n",
       "      <td>0.016931</td>\n",
       "      <td>0.266667</td>\n",
       "      <td>0.712812</td>\n",
       "      <td>0.007812</td>\n",
       "      <td>5.484375</td>\n",
       "      <td>5.476562</td>\n",
       "      <td>0.208274</td>\n",
       "      <td>1</td>\n",
       "    </tr>\n",
       "  </tbody>\n",
       "</table>\n",
       "<p>5 rows × 21 columns</p>\n",
       "</div>"
      ],
      "text/plain": [
       "   meanfreq        sd    median       Q25       Q75       IQR       skew  \\\n",
       "0  0.059781  0.064241  0.032027  0.015071  0.090193  0.075122  12.863462   \n",
       "1  0.066009  0.067310  0.040229  0.019414  0.092666  0.073252  22.423285   \n",
       "2  0.077316  0.083829  0.036718  0.008701  0.131908  0.123207  30.757155   \n",
       "3  0.151228  0.072111  0.158011  0.096582  0.207955  0.111374   1.232831   \n",
       "4  0.135120  0.079146  0.124656  0.078720  0.206045  0.127325   1.101174   \n",
       "\n",
       "          kurt    sp.ent       sfm  ...  centroid   meanfun    minfun  \\\n",
       "0   274.402906  0.893369  0.491918  ...  0.059781  0.084279  0.015702   \n",
       "1   634.613855  0.892193  0.513724  ...  0.066009  0.107937  0.015826   \n",
       "2  1024.927705  0.846389  0.478905  ...  0.077316  0.098706  0.015656   \n",
       "3     4.177296  0.963322  0.727232  ...  0.151228  0.088965  0.017798   \n",
       "4     4.333713  0.971955  0.783568  ...  0.135120  0.106398  0.016931   \n",
       "\n",
       "     maxfun   meandom    mindom    maxdom   dfrange   modindx  label  \n",
       "0  0.275862  0.007812  0.007812  0.007812  0.000000  0.000000      1  \n",
       "1  0.250000  0.009014  0.007812  0.054688  0.046875  0.052632      1  \n",
       "2  0.271186  0.007990  0.007812  0.015625  0.007812  0.046512      1  \n",
       "3  0.250000  0.201497  0.007812  0.562500  0.554688  0.247119      1  \n",
       "4  0.266667  0.712812  0.007812  5.484375  5.476562  0.208274      1  \n",
       "\n",
       "[5 rows x 21 columns]"
      ]
     },
     "execution_count": 30,
     "metadata": {},
     "output_type": "execute_result"
    }
   ],
   "source": [
    "from sklearn.preprocessing import LabelEncoder\n",
    "label = LabelEncoder()\n",
    "df['label'] = label.fit_transform(df['label'])\n",
    "df.head()"
   ]
  },
  {
   "cell_type": "code",
   "execution_count": 31,
   "id": "f319547e",
   "metadata": {},
   "outputs": [
    {
     "data": {
      "text/plain": [
       "<AxesSubplot:>"
      ]
     },
     "execution_count": 31,
     "metadata": {},
     "output_type": "execute_result"
    },
    {
     "data": {
      "image/png": "[encoded data removed]",
      "text/plain": [
       "<Figure size 1080x576 with 2 Axes>"
      ]
     },
     "metadata": {
      "needs_background": "light"
     },
     "output_type": "display_data"
    }
   ],
   "source": [
    "plt.figure(figsize=(15,8))\n",
    "sns.heatmap(df.corr())"
   ]
  },
  {
   "cell_type": "code",
   "execution_count": 34,
   "id": "b6ea6f2f",
   "metadata": {},
   "outputs": [
    {
     "data": {
      "text/plain": [
       "Index(['meanfreq', 'sd', 'median', 'Q25', 'Q75', 'IQR', 'skew', 'kurt',\n",
       "       'sp.ent', 'sfm', 'mode', 'centroid', 'meanfun', 'minfun', 'maxfun',\n",
       "       'meandom', 'mindom', 'maxdom', 'dfrange', 'modindx', 'label'],\n",
       "      dtype='object')"
      ]
     },
     "execution_count": 34,
     "metadata": {},
     "output_type": "execute_result"
    }
   ],
   "source": [
    "df.columns"
   ]
  },
  {
   "cell_type": "code",
   "execution_count": 32,
   "id": "e3e1a735",
   "metadata": {},
   "outputs": [],
   "source": [
    "x = df.iloc[:,:-1] #independent variable\n",
    "\n",
    "y = df.iloc[:,-1:] #dependent variable"
   ]
  },
  {
   "cell_type": "code",
   "execution_count": 33,
   "id": "21b4ba19",
   "metadata": {},
   "outputs": [],
   "source": [
    "from sklearn.preprocessing import StandardScaler\n",
    "scaler = StandardScaler()\n",
    "scaler.fit(x)\n",
    "scaled_data = scaler.transform(x)"
   ]
  },
  {
   "cell_type": "code",
   "execution_count": 35,
   "id": "ba032d41",
   "metadata": {},
   "outputs": [
    {
     "data": {
      "text/html": [
       "<div>\n",
       "<style scoped>\n",
       "    .dataframe tbody tr th:only-of-type {\n",
       "        vertical-align: middle;\n",
       "    }\n",
       "\n",
       "    .dataframe tbody tr th {\n",
       "        vertical-align: top;\n",
       "    }\n",
       "\n",
       "    .dataframe thead th {\n",
       "        text-align: right;\n",
       "    }\n",
       "</style>\n",
       "<table border=\"1\" class=\"dataframe\">\n",
       "  <thead>\n",
       "    <tr style=\"text-align: right;\">\n",
       "      <th></th>\n",
       "      <th>meanfreq</th>\n",
       "      <th>sd</th>\n",
       "      <th>median</th>\n",
       "      <th>Q25</th>\n",
       "      <th>Q75</th>\n",
       "      <th>IQR</th>\n",
       "      <th>skew</th>\n",
       "      <th>kurt</th>\n",
       "      <th>sp.ent</th>\n",
       "      <th>sfm</th>\n",
       "      <th>mode</th>\n",
       "      <th>centroid</th>\n",
       "      <th>meanfun</th>\n",
       "      <th>minfun</th>\n",
       "      <th>maxfun</th>\n",
       "      <th>meandom</th>\n",
       "      <th>mindom</th>\n",
       "      <th>maxdom</th>\n",
       "      <th>dfrange</th>\n",
       "      <th>modindx</th>\n",
       "    </tr>\n",
       "  </thead>\n",
       "  <tbody>\n",
       "    <tr>\n",
       "      <th>0</th>\n",
       "      <td>-4.048763</td>\n",
       "      <td>0.427014</td>\n",
       "      <td>-4.224894</td>\n",
       "      <td>-2.575370</td>\n",
       "      <td>-5.693565</td>\n",
       "      <td>-0.214711</td>\n",
       "      <td>2.292464</td>\n",
       "      <td>1.762278</td>\n",
       "      <td>-0.039446</td>\n",
       "      <td>0.470952</td>\n",
       "      <td>-2.140524</td>\n",
       "      <td>-4.048763</td>\n",
       "      <td>-1.811609</td>\n",
       "      <td>-1.097704</td>\n",
       "      <td>0.565984</td>\n",
       "      <td>-1.564135</td>\n",
       "      <td>-0.708130</td>\n",
       "      <td>-1.432152</td>\n",
       "      <td>-1.419874</td>\n",
       "      <td>-1.454399</td>\n",
       "    </tr>\n",
       "    <tr>\n",
       "      <th>1</th>\n",
       "      <td>-3.840558</td>\n",
       "      <td>0.611291</td>\n",
       "      <td>-3.999247</td>\n",
       "      <td>-2.486167</td>\n",
       "      <td>-5.588933</td>\n",
       "      <td>-0.258411</td>\n",
       "      <td>4.546556</td>\n",
       "      <td>4.431537</td>\n",
       "      <td>-0.065595</td>\n",
       "      <td>0.593839</td>\n",
       "      <td>-2.140524</td>\n",
       "      <td>-3.840558</td>\n",
       "      <td>-1.079386</td>\n",
       "      <td>-1.091241</td>\n",
       "      <td>-0.293799</td>\n",
       "      <td>-1.561845</td>\n",
       "      <td>-0.708130</td>\n",
       "      <td>-1.418823</td>\n",
       "      <td>-1.406540</td>\n",
       "      <td>-1.013840</td>\n",
       "    </tr>\n",
       "    <tr>\n",
       "      <th>2</th>\n",
       "      <td>-3.462553</td>\n",
       "      <td>1.603266</td>\n",
       "      <td>-4.095821</td>\n",
       "      <td>-2.706234</td>\n",
       "      <td>-3.928446</td>\n",
       "      <td>0.909211</td>\n",
       "      <td>6.511582</td>\n",
       "      <td>7.323867</td>\n",
       "      <td>-1.083891</td>\n",
       "      <td>0.397619</td>\n",
       "      <td>-2.140524</td>\n",
       "      <td>-3.462553</td>\n",
       "      <td>-1.365073</td>\n",
       "      <td>-1.100102</td>\n",
       "      <td>0.410543</td>\n",
       "      <td>-1.563797</td>\n",
       "      <td>-0.708130</td>\n",
       "      <td>-1.429931</td>\n",
       "      <td>-1.417651</td>\n",
       "      <td>-1.065068</td>\n",
       "    </tr>\n",
       "    <tr>\n",
       "      <th>3</th>\n",
       "      <td>-0.991527</td>\n",
       "      <td>0.899560</td>\n",
       "      <td>-0.758836</td>\n",
       "      <td>-0.900952</td>\n",
       "      <td>-0.710567</td>\n",
       "      <td>0.632620</td>\n",
       "      <td>-0.449899</td>\n",
       "      <td>-0.240166</td>\n",
       "      <td>1.515717</td>\n",
       "      <td>1.797051</td>\n",
       "      <td>-1.054015</td>\n",
       "      <td>-0.991527</td>\n",
       "      <td>-1.666580</td>\n",
       "      <td>-0.988666</td>\n",
       "      <td>-0.293799</td>\n",
       "      <td>-1.195160</td>\n",
       "      <td>-0.708130</td>\n",
       "      <td>-1.274421</td>\n",
       "      <td>-1.262091</td>\n",
       "      <td>0.614139</td>\n",
       "    </tr>\n",
       "    <tr>\n",
       "      <th>4</th>\n",
       "      <td>-1.530036</td>\n",
       "      <td>1.322037</td>\n",
       "      <td>-1.676492</td>\n",
       "      <td>-1.267871</td>\n",
       "      <td>-0.791400</td>\n",
       "      <td>1.005458</td>\n",
       "      <td>-0.480942</td>\n",
       "      <td>-0.239006</td>\n",
       "      <td>1.707634</td>\n",
       "      <td>2.114531</td>\n",
       "      <td>-0.789983</td>\n",
       "      <td>-1.530036</td>\n",
       "      <td>-1.127011</td>\n",
       "      <td>-1.033737</td>\n",
       "      <td>0.260283</td>\n",
       "      <td>-0.221089</td>\n",
       "      <td>-0.708130</td>\n",
       "      <td>0.125163</td>\n",
       "      <td>0.137952</td>\n",
       "      <td>0.288981</td>\n",
       "    </tr>\n",
       "    <tr>\n",
       "      <th>...</th>\n",
       "      <td>...</td>\n",
       "      <td>...</td>\n",
       "      <td>...</td>\n",
       "      <td>...</td>\n",
       "      <td>...</td>\n",
       "      <td>...</td>\n",
       "      <td>...</td>\n",
       "      <td>...</td>\n",
       "      <td>...</td>\n",
       "      <td>...</td>\n",
       "      <td>...</td>\n",
       "      <td>...</td>\n",
       "      <td>...</td>\n",
       "      <td>...</td>\n",
       "      <td>...</td>\n",
       "      <td>...</td>\n",
       "      <td>...</td>\n",
       "      <td>...</td>\n",
       "      <td>...</td>\n",
       "      <td>...</td>\n",
       "    </tr>\n",
       "    <tr>\n",
       "      <th>3161</th>\n",
       "      <td>-1.638243</td>\n",
       "      <td>1.657589</td>\n",
       "      <td>-0.877242</td>\n",
       "      <td>-1.872543</td>\n",
       "      <td>-0.998775</td>\n",
       "      <td>1.578918</td>\n",
       "      <td>-0.325097</td>\n",
       "      <td>-0.221988</td>\n",
       "      <td>1.507085</td>\n",
       "      <td>1.999646</td>\n",
       "      <td>0.460989</td>\n",
       "      <td>-1.638243</td>\n",
       "      <td>1.237394</td>\n",
       "      <td>2.443535</td>\n",
       "      <td>0.114950</td>\n",
       "      <td>0.007679</td>\n",
       "      <td>-0.708130</td>\n",
       "      <td>-0.236952</td>\n",
       "      <td>-0.224281</td>\n",
       "      <td>-0.098956</td>\n",
       "    </tr>\n",
       "    <tr>\n",
       "      <th>3162</th>\n",
       "      <td>-2.161878</td>\n",
       "      <td>1.927034</td>\n",
       "      <td>-2.994259</td>\n",
       "      <td>-2.007453</td>\n",
       "      <td>-0.839398</td>\n",
       "      <td>1.820459</td>\n",
       "      <td>-0.577012</td>\n",
       "      <td>-0.252565</td>\n",
       "      <td>1.457764</td>\n",
       "      <td>1.697517</td>\n",
       "      <td>-1.963283</td>\n",
       "      <td>-2.161878</td>\n",
       "      <td>1.428983</td>\n",
       "      <td>-0.124475</td>\n",
       "      <td>0.565984</td>\n",
       "      <td>0.154284</td>\n",
       "      <td>-0.214381</td>\n",
       "      <td>-0.388018</td>\n",
       "      <td>-0.384286</td>\n",
       "      <td>0.871769</td>\n",
       "    </tr>\n",
       "    <tr>\n",
       "      <th>3163</th>\n",
       "      <td>-1.298158</td>\n",
       "      <td>2.321994</td>\n",
       "      <td>-0.051230</td>\n",
       "      <td>-2.198367</td>\n",
       "      <td>-0.016402</td>\n",
       "      <td>2.492295</td>\n",
       "      <td>-0.298129</td>\n",
       "      <td>-0.222179</td>\n",
       "      <td>1.149604</td>\n",
       "      <td>1.385464</td>\n",
       "      <td>-2.036823</td>\n",
       "      <td>-1.298158</td>\n",
       "      <td>2.077037</td>\n",
       "      <td>0.140726</td>\n",
       "      <td>0.565984</td>\n",
       "      <td>-0.637418</td>\n",
       "      <td>-0.708130</td>\n",
       "      <td>-0.599067</td>\n",
       "      <td>-0.586514</td>\n",
       "      <td>0.175850</td>\n",
       "    </tr>\n",
       "    <tr>\n",
       "      <th>3164</th>\n",
       "      <td>-1.244584</td>\n",
       "      <td>2.011530</td>\n",
       "      <td>-0.016980</td>\n",
       "      <td>-1.991213</td>\n",
       "      <td>-0.203323</td>\n",
       "      <td>2.153337</td>\n",
       "      <td>-0.365431</td>\n",
       "      <td>-0.231192</td>\n",
       "      <td>1.229240</td>\n",
       "      <td>1.505349</td>\n",
       "      <td>0.608217</td>\n",
       "      <td>-1.244584</td>\n",
       "      <td>0.915051</td>\n",
       "      <td>-0.120617</td>\n",
       "      <td>-0.293799</td>\n",
       "      <td>-0.071454</td>\n",
       "      <td>-0.708130</td>\n",
       "      <td>-0.412455</td>\n",
       "      <td>-0.399842</td>\n",
       "      <td>1.148880</td>\n",
       "    </tr>\n",
       "    <tr>\n",
       "      <th>3165</th>\n",
       "      <td>-0.514094</td>\n",
       "      <td>2.146958</td>\n",
       "      <td>-0.070140</td>\n",
       "      <td>-1.445536</td>\n",
       "      <td>1.103534</td>\n",
       "      <td>2.254339</td>\n",
       "      <td>-0.338560</td>\n",
       "      <td>-0.228370</td>\n",
       "      <td>0.971199</td>\n",
       "      <td>1.088659</td>\n",
       "      <td>1.327127</td>\n",
       "      <td>-0.514094</td>\n",
       "      <td>1.324594</td>\n",
       "      <td>1.324329</td>\n",
       "      <td>0.410543</td>\n",
       "      <td>-1.146534</td>\n",
       "      <td>-0.708130</td>\n",
       "      <td>-1.276643</td>\n",
       "      <td>-1.264313</td>\n",
       "      <td>1.475315</td>\n",
       "    </tr>\n",
       "  </tbody>\n",
       "</table>\n",
       "<p>3166 rows × 20 columns</p>\n",
       "</div>"
      ],
      "text/plain": [
       "      meanfreq        sd    median       Q25       Q75       IQR      skew  \\\n",
       "0    -4.048763  0.427014 -4.224894 -2.575370 -5.693565 -0.214711  2.292464   \n",
       "1    -3.840558  0.611291 -3.999247 -2.486167 -5.588933 -0.258411  4.546556   \n",
       "2    -3.462553  1.603266 -4.095821 -2.706234 -3.928446  0.909211  6.511582   \n",
       "3    -0.991527  0.899560 -0.758836 -0.900952 -0.710567  0.632620 -0.449899   \n",
       "4    -1.530036  1.322037 -1.676492 -1.267871 -0.791400  1.005458 -0.480942   \n",
       "...        ...       ...       ...       ...       ...       ...       ...   \n",
       "3161 -1.638243  1.657589 -0.877242 -1.872543 -0.998775  1.578918 -0.325097   \n",
       "3162 -2.161878  1.927034 -2.994259 -2.007453 -0.839398  1.820459 -0.577012   \n",
       "3163 -1.298158  2.321994 -0.051230 -2.198367 -0.016402  2.492295 -0.298129   \n",
       "3164 -1.244584  2.011530 -0.016980 -1.991213 -0.203323  2.153337 -0.365431   \n",
       "3165 -0.514094  2.146958 -0.070140 -1.445536  1.103534  2.254339 -0.338560   \n",
       "\n",
       "          kurt    sp.ent       sfm      mode  centroid   meanfun    minfun  \\\n",
       "0     1.762278 -0.039446  0.470952 -2.140524 -4.048763 -1.811609 -1.097704   \n",
       "1     4.431537 -0.065595  0.593839 -2.140524 -3.840558 -1.079386 -1.091241   \n",
       "2     7.323867 -1.083891  0.397619 -2.140524 -3.462553 -1.365073 -1.100102   \n",
       "3    -0.240166  1.515717  1.797051 -1.054015 -0.991527 -1.666580 -0.988666   \n",
       "4    -0.239006  1.707634  2.114531 -0.789983 -1.530036 -1.127011 -1.033737   \n",
       "...        ...       ...       ...       ...       ...       ...       ...   \n",
       "3161 -0.221988  1.507085  1.999646  0.460989 -1.638243  1.237394  2.443535   \n",
       "3162 -0.252565  1.457764  1.697517 -1.963283 -2.161878  1.428983 -0.124475   \n",
       "3163 -0.222179  1.149604  1.385464 -2.036823 -1.298158  2.077037  0.140726   \n",
       "3164 -0.231192  1.229240  1.505349  0.608217 -1.244584  0.915051 -0.120617   \n",
       "3165 -0.228370  0.971199  1.088659  1.327127 -0.514094  1.324594  1.324329   \n",
       "\n",
       "        maxfun   meandom    mindom    maxdom   dfrange   modindx  \n",
       "0     0.565984 -1.564135 -0.708130 -1.432152 -1.419874 -1.454399  \n",
       "1    -0.293799 -1.561845 -0.708130 -1.418823 -1.406540 -1.013840  \n",
       "2     0.410543 -1.563797 -0.708130 -1.429931 -1.417651 -1.065068  \n",
       "3    -0.293799 -1.195160 -0.708130 -1.274421 -1.262091  0.614139  \n",
       "4     0.260283 -0.221089 -0.708130  0.125163  0.137952  0.288981  \n",
       "...        ...       ...       ...       ...       ...       ...  \n",
       "3161  0.114950  0.007679 -0.708130 -0.236952 -0.224281 -0.098956  \n",
       "3162  0.565984  0.154284 -0.214381 -0.388018 -0.384286  0.871769  \n",
       "3163  0.565984 -0.637418 -0.708130 -0.599067 -0.586514  0.175850  \n",
       "3164 -0.293799 -0.071454 -0.708130 -0.412455 -0.399842  1.148880  \n",
       "3165  0.410543 -1.146534 -0.708130 -1.276643 -1.264313  1.475315  \n",
       "\n",
       "[3166 rows x 20 columns]"
      ]
     },
     "execution_count": 35,
     "metadata": {},
     "output_type": "execute_result"
    }
   ],
   "source": [
    "x = pd.DataFrame(scaled_data,columns=['meanfreq', 'sd', 'median', 'Q25', 'Q75', 'IQR', 'skew', 'kurt',\n",
    "       'sp.ent', 'sfm', 'mode', 'centroid', 'meanfun', 'minfun', 'maxfun',\n",
    "       'meandom', 'mindom', 'maxdom', 'dfrange', 'modindx'])\n",
    "x"
   ]
  },
  {
   "cell_type": "code",
   "execution_count": 36,
   "id": "97ba4b00",
   "metadata": {},
   "outputs": [],
   "source": [
    "#split data into training and test data\n",
    "from sklearn.model_selection import train_test_split\n",
    "x_train,x_test,y_train,y_test = train_test_split(x,y,train_size=0.2,random_state=1)"
   ]
  },
  {
   "cell_type": "markdown",
   "id": "3890e9f3",
   "metadata": {},
   "source": [
    "# Logistic Regression"
   ]
  },
  {
   "cell_type": "code",
   "execution_count": 37,
   "id": "313bd1f8",
   "metadata": {},
   "outputs": [
    {
     "name": "stderr",
     "output_type": "stream",
     "text": [
      "C:\\ProgramData\\Anaconda3\\lib\\site-packages\\sklearn\\utils\\validation.py:63: DataConversionWarning: A column-vector y was passed when a 1d array was expected. Please change the shape of y to (n_samples, ), for example using ravel().\n",
      "  return f(*args, **kwargs)\n"
     ]
    },
    {
     "data": {
      "text/plain": [
       "LogisticRegression()"
      ]
     },
     "execution_count": 37,
     "metadata": {},
     "output_type": "execute_result"
    }
   ],
   "source": [
    "#Here we use logistic Regression Algorithm to trian model\n",
    "from sklearn.linear_model import LogisticRegression\n",
    "logi_regg = LogisticRegression()\n",
    "logi_regg.fit(x_train,y_train)"
   ]
  },
  {
   "cell_type": "code",
   "execution_count": 38,
   "id": "9a112ec9",
   "metadata": {},
   "outputs": [],
   "source": [
    "#predict the test data\n",
    "y_pred_logi = logi_regg.predict(x_test)"
   ]
  },
  {
   "cell_type": "code",
   "execution_count": 40,
   "id": "d8380e4a",
   "metadata": {},
   "outputs": [
    {
     "name": "stdout",
     "output_type": "stream",
     "text": [
      "Accuracy of model is :  0.9723647848401106\n",
      "Correct and Incorrect input data :'\n",
      "' [[1251   31]\n",
      " [  39 1212]]\n"
     ]
    }
   ],
   "source": [
    "#Here we check the accuracy of model with the help of accuracy score and confusion metrix\n",
    "from sklearn.metrics import accuracy_score,confusion_matrix\n",
    "score_logi = accuracy_score(y_test,y_pred_logi)\n",
    "print('Accuracy of model is : ',score_logi)\n",
    "\n",
    "error_logi = confusion_matrix(y_test,y_pred_logi)\n",
    "print(\"Correct and Incorrect input data :'\\n'\", error_logi)"
   ]
  },
  {
   "cell_type": "code",
   "execution_count": 42,
   "id": "5fac22a2",
   "metadata": {},
   "outputs": [
    {
     "data": {
      "image/png": "[encoded data removed]",
      "text/plain": [
       "<Figure size 720x576 with 1 Axes>"
      ]
     },
     "metadata": {
      "needs_background": "light"
     },
     "output_type": "display_data"
    }
   ],
   "source": [
    "#visulation of the Acutal Target and Predicated target\n",
    "plt.figure(figsize=(10,8))\n",
    "plt.scatter(y_test,y_pred_logi,c='y',label='logistic Regression')\n",
    "plt.xlabel('Actual Target')\n",
    "plt.ylabel('Predicated Target')\n",
    "plt.title('Actual Target Vs Predicated Target')\n",
    "plt.legend()\n",
    "plt.show()"
   ]
  },
  {
   "cell_type": "markdown",
   "id": "bbc66165",
   "metadata": {},
   "source": [
    "# K-Nearest Neighbours"
   ]
  },
  {
   "cell_type": "code",
   "execution_count": 43,
   "id": "77eef9c6",
   "metadata": {},
   "outputs": [
    {
     "name": "stderr",
     "output_type": "stream",
     "text": [
      "C:\\ProgramData\\Anaconda3\\lib\\site-packages\\sklearn\\neighbors\\_classification.py:179: DataConversionWarning: A column-vector y was passed when a 1d array was expected. Please change the shape of y to (n_samples,), for example using ravel().\n",
      "  return self._fit(X, y)\n",
      "C:\\ProgramData\\Anaconda3\\lib\\site-packages\\sklearn\\neighbors\\_classification.py:179: DataConversionWarning: A column-vector y was passed when a 1d array was expected. Please change the shape of y to (n_samples,), for example using ravel().\n",
      "  return self._fit(X, y)\n",
      "C:\\ProgramData\\Anaconda3\\lib\\site-packages\\sklearn\\neighbors\\_classification.py:179: DataConversionWarning: A column-vector y was passed when a 1d array was expected. Please change the shape of y to (n_samples,), for example using ravel().\n",
      "  return self._fit(X, y)\n",
      "C:\\ProgramData\\Anaconda3\\lib\\site-packages\\sklearn\\neighbors\\_classification.py:179: DataConversionWarning: A column-vector y was passed when a 1d array was expected. Please change the shape of y to (n_samples,), for example using ravel().\n",
      "  return self._fit(X, y)\n",
      "C:\\ProgramData\\Anaconda3\\lib\\site-packages\\sklearn\\neighbors\\_classification.py:179: DataConversionWarning: A column-vector y was passed when a 1d array was expected. Please change the shape of y to (n_samples,), for example using ravel().\n",
      "  return self._fit(X, y)\n",
      "C:\\ProgramData\\Anaconda3\\lib\\site-packages\\sklearn\\neighbors\\_classification.py:179: DataConversionWarning: A column-vector y was passed when a 1d array was expected. Please change the shape of y to (n_samples,), for example using ravel().\n",
      "  return self._fit(X, y)\n",
      "C:\\ProgramData\\Anaconda3\\lib\\site-packages\\sklearn\\neighbors\\_classification.py:179: DataConversionWarning: A column-vector y was passed when a 1d array was expected. Please change the shape of y to (n_samples,), for example using ravel().\n",
      "  return self._fit(X, y)\n",
      "C:\\ProgramData\\Anaconda3\\lib\\site-packages\\sklearn\\neighbors\\_classification.py:179: DataConversionWarning: A column-vector y was passed when a 1d array was expected. Please change the shape of y to (n_samples,), for example using ravel().\n",
      "  return self._fit(X, y)\n",
      "C:\\ProgramData\\Anaconda3\\lib\\site-packages\\sklearn\\neighbors\\_classification.py:179: DataConversionWarning: A column-vector y was passed when a 1d array was expected. Please change the shape of y to (n_samples,), for example using ravel().\n",
      "  return self._fit(X, y)\n",
      "C:\\ProgramData\\Anaconda3\\lib\\site-packages\\sklearn\\neighbors\\_classification.py:179: DataConversionWarning: A column-vector y was passed when a 1d array was expected. Please change the shape of y to (n_samples,), for example using ravel().\n",
      "  return self._fit(X, y)\n",
      "C:\\ProgramData\\Anaconda3\\lib\\site-packages\\sklearn\\neighbors\\_classification.py:179: DataConversionWarning: A column-vector y was passed when a 1d array was expected. Please change the shape of y to (n_samples,), for example using ravel().\n",
      "  return self._fit(X, y)\n",
      "C:\\ProgramData\\Anaconda3\\lib\\site-packages\\sklearn\\neighbors\\_classification.py:179: DataConversionWarning: A column-vector y was passed when a 1d array was expected. Please change the shape of y to (n_samples,), for example using ravel().\n",
      "  return self._fit(X, y)\n",
      "C:\\ProgramData\\Anaconda3\\lib\\site-packages\\sklearn\\neighbors\\_classification.py:179: DataConversionWarning: A column-vector y was passed when a 1d array was expected. Please change the shape of y to (n_samples,), for example using ravel().\n",
      "  return self._fit(X, y)\n",
      "C:\\ProgramData\\Anaconda3\\lib\\site-packages\\sklearn\\neighbors\\_classification.py:179: DataConversionWarning: A column-vector y was passed when a 1d array was expected. Please change the shape of y to (n_samples,), for example using ravel().\n",
      "  return self._fit(X, y)\n",
      "C:\\ProgramData\\Anaconda3\\lib\\site-packages\\sklearn\\neighbors\\_classification.py:179: DataConversionWarning: A column-vector y was passed when a 1d array was expected. Please change the shape of y to (n_samples,), for example using ravel().\n",
      "  return self._fit(X, y)\n",
      "C:\\ProgramData\\Anaconda3\\lib\\site-packages\\sklearn\\neighbors\\_classification.py:179: DataConversionWarning: A column-vector y was passed when a 1d array was expected. Please change the shape of y to (n_samples,), for example using ravel().\n",
      "  return self._fit(X, y)\n",
      "C:\\ProgramData\\Anaconda3\\lib\\site-packages\\sklearn\\neighbors\\_classification.py:179: DataConversionWarning: A column-vector y was passed when a 1d array was expected. Please change the shape of y to (n_samples,), for example using ravel().\n",
      "  return self._fit(X, y)\n",
      "C:\\ProgramData\\Anaconda3\\lib\\site-packages\\sklearn\\neighbors\\_classification.py:179: DataConversionWarning: A column-vector y was passed when a 1d array was expected. Please change the shape of y to (n_samples,), for example using ravel().\n",
      "  return self._fit(X, y)\n",
      "C:\\ProgramData\\Anaconda3\\lib\\site-packages\\sklearn\\neighbors\\_classification.py:179: DataConversionWarning: A column-vector y was passed when a 1d array was expected. Please change the shape of y to (n_samples,), for example using ravel().\n",
      "  return self._fit(X, y)\n",
      "C:\\ProgramData\\Anaconda3\\lib\\site-packages\\sklearn\\neighbors\\_classification.py:179: DataConversionWarning: A column-vector y was passed when a 1d array was expected. Please change the shape of y to (n_samples,), for example using ravel().\n",
      "  return self._fit(X, y)\n",
      "C:\\ProgramData\\Anaconda3\\lib\\site-packages\\sklearn\\neighbors\\_classification.py:179: DataConversionWarning: A column-vector y was passed when a 1d array was expected. Please change the shape of y to (n_samples,), for example using ravel().\n",
      "  return self._fit(X, y)\n",
      "C:\\ProgramData\\Anaconda3\\lib\\site-packages\\sklearn\\neighbors\\_classification.py:179: DataConversionWarning: A column-vector y was passed when a 1d array was expected. Please change the shape of y to (n_samples,), for example using ravel().\n",
      "  return self._fit(X, y)\n",
      "C:\\ProgramData\\Anaconda3\\lib\\site-packages\\sklearn\\neighbors\\_classification.py:179: DataConversionWarning: A column-vector y was passed when a 1d array was expected. Please change the shape of y to (n_samples,), for example using ravel().\n",
      "  return self._fit(X, y)\n",
      "C:\\ProgramData\\Anaconda3\\lib\\site-packages\\sklearn\\neighbors\\_classification.py:179: DataConversionWarning: A column-vector y was passed when a 1d array was expected. Please change the shape of y to (n_samples,), for example using ravel().\n",
      "  return self._fit(X, y)\n"
     ]
    },
    {
     "name": "stdout",
     "output_type": "stream",
     "text": [
      "[0.9573628108961706, 0.9561784445321753, 0.9510461902881958, 0.9498618239242006, 0.9486774575602053, 0.9455191472562179, 0.9443347808922227, 0.9415712593762338, 0.9388077378602447, 0.9348598499802606, 0.9328859060402684, 0.9309119621002764, 0.9289380181602842, 0.9238057639163048, 0.9234109751283064, 0.920252664824319, 0.9174891433083301, 0.9178839320963285, 0.9151204105803395, 0.9115673114883537, 0.9088037899723648, 0.905250690880379, 0.8989340702724042, 0.8945913936044216]\n",
      "[3, 5, 7, 9, 11, 13, 15, 17, 19, 21, 23, 25, 27, 29, 31, 33, 35, 37, 39, 41, 43, 45, 47, 49]\n"
     ]
    }
   ],
   "source": [
    "from sklearn.neighbors import KNeighborsClassifier\n",
    "list1 = []\n",
    "list2 = []\n",
    "for i in range(3,50,2):\n",
    "    knn=KNeighborsClassifier(n_neighbors=i)\n",
    "    knn.fit(x_train,y_train)\n",
    "    from sklearn.metrics import accuracy_score\n",
    "    y_pred = knn.predict(x_test)\n",
    "    score = accuracy_score(y_test,y_pred)\n",
    "    list1.append(score)\n",
    "    list2.append(i)\n",
    "print(list1)\n",
    "print(list2)\n",
    "#print(i)"
   ]
  },
  {
   "cell_type": "code",
   "execution_count": 44,
   "id": "f25c552f",
   "metadata": {},
   "outputs": [
    {
     "data": {
      "text/html": [
       "<div>\n",
       "<style scoped>\n",
       "    .dataframe tbody tr th:only-of-type {\n",
       "        vertical-align: middle;\n",
       "    }\n",
       "\n",
       "    .dataframe tbody tr th {\n",
       "        vertical-align: top;\n",
       "    }\n",
       "\n",
       "    .dataframe thead th {\n",
       "        text-align: right;\n",
       "    }\n",
       "</style>\n",
       "<table border=\"1\" class=\"dataframe\">\n",
       "  <thead>\n",
       "    <tr style=\"text-align: right;\">\n",
       "      <th></th>\n",
       "      <th>score</th>\n",
       "      <th>k_values</th>\n",
       "    </tr>\n",
       "  </thead>\n",
       "  <tbody>\n",
       "    <tr>\n",
       "      <th>0</th>\n",
       "      <td>0.957363</td>\n",
       "      <td>3</td>\n",
       "    </tr>\n",
       "    <tr>\n",
       "      <th>1</th>\n",
       "      <td>0.956178</td>\n",
       "      <td>5</td>\n",
       "    </tr>\n",
       "    <tr>\n",
       "      <th>2</th>\n",
       "      <td>0.951046</td>\n",
       "      <td>7</td>\n",
       "    </tr>\n",
       "    <tr>\n",
       "      <th>3</th>\n",
       "      <td>0.949862</td>\n",
       "      <td>9</td>\n",
       "    </tr>\n",
       "    <tr>\n",
       "      <th>4</th>\n",
       "      <td>0.948677</td>\n",
       "      <td>11</td>\n",
       "    </tr>\n",
       "    <tr>\n",
       "      <th>5</th>\n",
       "      <td>0.945519</td>\n",
       "      <td>13</td>\n",
       "    </tr>\n",
       "    <tr>\n",
       "      <th>6</th>\n",
       "      <td>0.944335</td>\n",
       "      <td>15</td>\n",
       "    </tr>\n",
       "    <tr>\n",
       "      <th>7</th>\n",
       "      <td>0.941571</td>\n",
       "      <td>17</td>\n",
       "    </tr>\n",
       "    <tr>\n",
       "      <th>8</th>\n",
       "      <td>0.938808</td>\n",
       "      <td>19</td>\n",
       "    </tr>\n",
       "    <tr>\n",
       "      <th>9</th>\n",
       "      <td>0.934860</td>\n",
       "      <td>21</td>\n",
       "    </tr>\n",
       "    <tr>\n",
       "      <th>10</th>\n",
       "      <td>0.932886</td>\n",
       "      <td>23</td>\n",
       "    </tr>\n",
       "    <tr>\n",
       "      <th>11</th>\n",
       "      <td>0.930912</td>\n",
       "      <td>25</td>\n",
       "    </tr>\n",
       "    <tr>\n",
       "      <th>12</th>\n",
       "      <td>0.928938</td>\n",
       "      <td>27</td>\n",
       "    </tr>\n",
       "    <tr>\n",
       "      <th>13</th>\n",
       "      <td>0.923806</td>\n",
       "      <td>29</td>\n",
       "    </tr>\n",
       "    <tr>\n",
       "      <th>14</th>\n",
       "      <td>0.923411</td>\n",
       "      <td>31</td>\n",
       "    </tr>\n",
       "    <tr>\n",
       "      <th>15</th>\n",
       "      <td>0.920253</td>\n",
       "      <td>33</td>\n",
       "    </tr>\n",
       "    <tr>\n",
       "      <th>16</th>\n",
       "      <td>0.917489</td>\n",
       "      <td>35</td>\n",
       "    </tr>\n",
       "    <tr>\n",
       "      <th>17</th>\n",
       "      <td>0.917884</td>\n",
       "      <td>37</td>\n",
       "    </tr>\n",
       "    <tr>\n",
       "      <th>18</th>\n",
       "      <td>0.915120</td>\n",
       "      <td>39</td>\n",
       "    </tr>\n",
       "    <tr>\n",
       "      <th>19</th>\n",
       "      <td>0.911567</td>\n",
       "      <td>41</td>\n",
       "    </tr>\n",
       "    <tr>\n",
       "      <th>20</th>\n",
       "      <td>0.908804</td>\n",
       "      <td>43</td>\n",
       "    </tr>\n",
       "    <tr>\n",
       "      <th>21</th>\n",
       "      <td>0.905251</td>\n",
       "      <td>45</td>\n",
       "    </tr>\n",
       "    <tr>\n",
       "      <th>22</th>\n",
       "      <td>0.898934</td>\n",
       "      <td>47</td>\n",
       "    </tr>\n",
       "    <tr>\n",
       "      <th>23</th>\n",
       "      <td>0.894591</td>\n",
       "      <td>49</td>\n",
       "    </tr>\n",
       "  </tbody>\n",
       "</table>\n",
       "</div>"
      ],
      "text/plain": [
       "       score  k_values\n",
       "0   0.957363         3\n",
       "1   0.956178         5\n",
       "2   0.951046         7\n",
       "3   0.949862         9\n",
       "4   0.948677        11\n",
       "5   0.945519        13\n",
       "6   0.944335        15\n",
       "7   0.941571        17\n",
       "8   0.938808        19\n",
       "9   0.934860        21\n",
       "10  0.932886        23\n",
       "11  0.930912        25\n",
       "12  0.928938        27\n",
       "13  0.923806        29\n",
       "14  0.923411        31\n",
       "15  0.920253        33\n",
       "16  0.917489        35\n",
       "17  0.917884        37\n",
       "18  0.915120        39\n",
       "19  0.911567        41\n",
       "20  0.908804        43\n",
       "21  0.905251        45\n",
       "22  0.898934        47\n",
       "23  0.894591        49"
      ]
     },
     "execution_count": 44,
     "metadata": {},
     "output_type": "execute_result"
    }
   ],
   "source": [
    "df = pd.DataFrame(list1,columns=['score'])\n",
    "df['k_values'] = list2\n",
    "df"
   ]
  },
  {
   "cell_type": "code",
   "execution_count": 45,
   "id": "5ca7dd1f",
   "metadata": {},
   "outputs": [
    {
     "name": "stderr",
     "output_type": "stream",
     "text": [
      "C:\\ProgramData\\Anaconda3\\lib\\site-packages\\seaborn\\_decorators.py:36: FutureWarning: Pass the following variables as keyword args: x, y. From version 0.12, the only valid positional argument will be `data`, and passing other arguments without an explicit keyword will result in an error or misinterpretation.\n",
      "  warnings.warn(\n"
     ]
    },
    {
     "data": {
      "text/plain": [
       "<AxesSubplot:xlabel='k_values', ylabel='score'>"
      ]
     },
     "execution_count": 45,
     "metadata": {},
     "output_type": "execute_result"
    },
    {
     "data": {
      "image/png": "[encoded data removed]",
      "text/plain": [
       "<Figure size 432x288 with 1 Axes>"
      ]
     },
     "metadata": {
      "needs_background": "light"
     },
     "output_type": "display_data"
    }
   ],
   "source": [
    "#here we plot the line graph\n",
    "sns.lineplot(df.k_values,df.score)\n",
    "#df.plot(x = 'k_values',y='score',kind='line')"
   ]
  },
  {
   "cell_type": "code",
   "execution_count": 46,
   "id": "d0890ad8",
   "metadata": {},
   "outputs": [
    {
     "name": "stderr",
     "output_type": "stream",
     "text": [
      "C:\\ProgramData\\Anaconda3\\lib\\site-packages\\seaborn\\_decorators.py:36: FutureWarning: Pass the following variables as keyword args: x, y. From version 0.12, the only valid positional argument will be `data`, and passing other arguments without an explicit keyword will result in an error or misinterpretation.\n",
      "  warnings.warn(\n"
     ]
    },
    {
     "data": {
      "image/png": "[encoded data removed]",
      "text/plain": [
       "<Figure size 432x288 with 1 Axes>"
      ]
     },
     "metadata": {
      "needs_background": "light"
     },
     "output_type": "display_data"
    }
   ],
   "source": [
    "#df.plot(x = 'mse',y='k_values',kind='bar')\n",
    "sns.barplot(df.k_values,df.score)\n",
    "plt.show()"
   ]
  },
  {
   "cell_type": "code",
   "execution_count": 47,
   "id": "6bcd1405",
   "metadata": {},
   "outputs": [
    {
     "name": "stderr",
     "output_type": "stream",
     "text": [
      "C:\\ProgramData\\Anaconda3\\lib\\site-packages\\sklearn\\neighbors\\_classification.py:179: DataConversionWarning: A column-vector y was passed when a 1d array was expected. Please change the shape of y to (n_samples,), for example using ravel().\n",
      "  return self._fit(X, y)\n"
     ]
    },
    {
     "data": {
      "text/plain": [
       "KNeighborsClassifier(n_neighbors=3)"
      ]
     },
     "execution_count": 47,
     "metadata": {},
     "output_type": "execute_result"
    }
   ],
   "source": [
    "knn = KNeighborsClassifier(n_neighbors=3)\n",
    "knn.fit(x_train,y_train)\n",
    "knn"
   ]
  },
  {
   "cell_type": "code",
   "execution_count": 48,
   "id": "45061281",
   "metadata": {},
   "outputs": [],
   "source": [
    "y_pred_knn = knn.predict(x_test)"
   ]
  },
  {
   "cell_type": "code",
   "execution_count": 49,
   "id": "9561f6a1",
   "metadata": {},
   "outputs": [
    {
     "name": "stdout",
     "output_type": "stream",
     "text": [
      "Accuracy of model is :  0.9573628108961706\n",
      "Correct and Incorrect input data :'\n",
      "' [[1217   65]\n",
      " [  43 1208]]\n"
     ]
    }
   ],
   "source": [
    "#Here we check the accuracy of model with the help of accuracy score and confusion metrix\n",
    "from sklearn.metrics import accuracy_score,confusion_matrix\n",
    "score_knn = accuracy_score(y_test,y_pred_knn)\n",
    "print('Accuracy of model is : ',score_knn)\n",
    "\n",
    "error_knn = confusion_matrix(y_test,y_pred_knn)\n",
    "print(\"Correct and Incorrect input data :'\\n'\", error_knn)"
   ]
  },
  {
   "cell_type": "code",
   "execution_count": 50,
   "id": "23ea7bc8",
   "metadata": {},
   "outputs": [
    {
     "data": {
      "image/png": "[encoded data removed]",
      "text/plain": [
       "<Figure size 720x576 with 1 Axes>"
      ]
     },
     "metadata": {
      "needs_background": "light"
     },
     "output_type": "display_data"
    }
   ],
   "source": [
    "#visulation of the Acutal Target and Predicated target\n",
    "plt.figure(figsize=(10,8))\n",
    "plt.scatter(y_test,y_pred_knn,c='k',label='KNN Algorithm')\n",
    "plt.xlabel('Actual Target')\n",
    "plt.ylabel('Predicated Target')\n",
    "plt.title('Actual Target Vs Predicated Target')\n",
    "plt.legend()\n",
    "plt.show()"
   ]
  },
  {
   "cell_type": "markdown",
   "id": "236f385b",
   "metadata": {},
   "source": [
    "# Support Vector Machine Algorithm"
   ]
  },
  {
   "cell_type": "code",
   "execution_count": 51,
   "id": "6f5ba549",
   "metadata": {},
   "outputs": [
    {
     "name": "stderr",
     "output_type": "stream",
     "text": [
      "C:\\ProgramData\\Anaconda3\\lib\\site-packages\\sklearn\\utils\\validation.py:63: DataConversionWarning: A column-vector y was passed when a 1d array was expected. Please change the shape of y to (n_samples, ), for example using ravel().\n",
      "  return f(*args, **kwargs)\n",
      "C:\\ProgramData\\Anaconda3\\lib\\site-packages\\sklearn\\utils\\validation.py:63: DataConversionWarning: A column-vector y was passed when a 1d array was expected. Please change the shape of y to (n_samples, ), for example using ravel().\n",
      "  return f(*args, **kwargs)\n",
      "C:\\ProgramData\\Anaconda3\\lib\\site-packages\\sklearn\\utils\\validation.py:63: DataConversionWarning: A column-vector y was passed when a 1d array was expected. Please change the shape of y to (n_samples, ), for example using ravel().\n",
      "  return f(*args, **kwargs)\n",
      "C:\\ProgramData\\Anaconda3\\lib\\site-packages\\sklearn\\utils\\validation.py:63: DataConversionWarning: A column-vector y was passed when a 1d array was expected. Please change the shape of y to (n_samples, ), for example using ravel().\n",
      "  return f(*args, **kwargs)\n"
     ]
    },
    {
     "data": {
      "text/plain": [
       "[0.9727595736281089,\n",
       " 0.9376233714962495,\n",
       " 0.9703908409001184,\n",
       " 0.8409001184366364]"
      ]
     },
     "execution_count": 51,
     "metadata": {},
     "output_type": "execute_result"
    }
   ],
   "source": [
    "from sklearn import svm\n",
    "#from sklearn.svm import SVC\n",
    "from sklearn.metrics import accuracy_score\n",
    "kernel_name = ['linear', 'poly', 'rbf','sigmoid'] #{'linear', 'poly', 'rbf', 'sigmoid', 'precomputed'}\n",
    "score_store = []\n",
    "for i in kernel_name:\n",
    "    cv_classification = svm.SVC(kernel=i)#SVC = support vector classifier\n",
    "    cv_classification.fit(x_train,y_train)\n",
    "    y_pred = cv_classification.predict(x_test)\n",
    "    score = accuracy_score(y_test,y_pred)\n",
    "    score_store.append(score)\n",
    "score_store"
   ]
  },
  {
   "cell_type": "code",
   "execution_count": 52,
   "id": "5eed531e",
   "metadata": {},
   "outputs": [
    {
     "data": {
      "text/html": [
       "<div>\n",
       "<style scoped>\n",
       "    .dataframe tbody tr th:only-of-type {\n",
       "        vertical-align: middle;\n",
       "    }\n",
       "\n",
       "    .dataframe tbody tr th {\n",
       "        vertical-align: top;\n",
       "    }\n",
       "\n",
       "    .dataframe thead th {\n",
       "        text-align: right;\n",
       "    }\n",
       "</style>\n",
       "<table border=\"1\" class=\"dataframe\">\n",
       "  <thead>\n",
       "    <tr style=\"text-align: right;\">\n",
       "      <th></th>\n",
       "      <th>score</th>\n",
       "      <th>kernal</th>\n",
       "    </tr>\n",
       "  </thead>\n",
       "  <tbody>\n",
       "    <tr>\n",
       "      <th>0</th>\n",
       "      <td>0.972760</td>\n",
       "      <td>linear</td>\n",
       "    </tr>\n",
       "    <tr>\n",
       "      <th>1</th>\n",
       "      <td>0.937623</td>\n",
       "      <td>poly</td>\n",
       "    </tr>\n",
       "    <tr>\n",
       "      <th>2</th>\n",
       "      <td>0.970391</td>\n",
       "      <td>rbf</td>\n",
       "    </tr>\n",
       "    <tr>\n",
       "      <th>3</th>\n",
       "      <td>0.840900</td>\n",
       "      <td>sigmoid</td>\n",
       "    </tr>\n",
       "  </tbody>\n",
       "</table>\n",
       "</div>"
      ],
      "text/plain": [
       "      score   kernal\n",
       "0  0.972760   linear\n",
       "1  0.937623     poly\n",
       "2  0.970391      rbf\n",
       "3  0.840900  sigmoid"
      ]
     },
     "execution_count": 52,
     "metadata": {},
     "output_type": "execute_result"
    }
   ],
   "source": [
    "df1 = pd.DataFrame(score_store,columns=['score'])\n",
    "df1['kernal'] = kernel_name\n",
    "df1"
   ]
  },
  {
   "cell_type": "code",
   "execution_count": 53,
   "id": "ea5302d5",
   "metadata": {},
   "outputs": [
    {
     "name": "stderr",
     "output_type": "stream",
     "text": [
      "C:\\ProgramData\\Anaconda3\\lib\\site-packages\\seaborn\\_decorators.py:36: FutureWarning: Pass the following variables as keyword args: x, y. From version 0.12, the only valid positional argument will be `data`, and passing other arguments without an explicit keyword will result in an error or misinterpretation.\n",
      "  warnings.warn(\n"
     ]
    },
    {
     "data": {
      "text/plain": [
       "<AxesSubplot:xlabel='kernal', ylabel='score'>"
      ]
     },
     "execution_count": 53,
     "metadata": {},
     "output_type": "execute_result"
    },
    {
     "data": {
      "image/png": "[encoded data removed]",
      "text/plain": [
       "<Figure size 432x288 with 1 Axes>"
      ]
     },
     "metadata": {
      "needs_background": "light"
     },
     "output_type": "display_data"
    }
   ],
   "source": [
    "#here we plot the line graph\n",
    "sns.lineplot(df1.kernal,df1.score)\n",
    "#df1.plot(x = 'kernal',y='score',kind='line')"
   ]
  },
  {
   "cell_type": "code",
   "execution_count": 54,
   "id": "0d636d49",
   "metadata": {},
   "outputs": [
    {
     "name": "stderr",
     "output_type": "stream",
     "text": [
      "C:\\ProgramData\\Anaconda3\\lib\\site-packages\\seaborn\\_decorators.py:36: FutureWarning: Pass the following variables as keyword args: x, y. From version 0.12, the only valid positional argument will be `data`, and passing other arguments without an explicit keyword will result in an error or misinterpretation.\n",
      "  warnings.warn(\n"
     ]
    },
    {
     "data": {
      "image/png": "[encoded data removed]",
      "text/plain": [
       "<Figure size 432x288 with 1 Axes>"
      ]
     },
     "metadata": {
      "needs_background": "light"
     },
     "output_type": "display_data"
    }
   ],
   "source": [
    "#df1.plot(x = 'score',y='k_values',kind='bar')\n",
    "sns.barplot(df1.kernal,df1.score)\n",
    "plt.show()"
   ]
  },
  {
   "cell_type": "code",
   "execution_count": 55,
   "id": "218ed73d",
   "metadata": {},
   "outputs": [
    {
     "name": "stderr",
     "output_type": "stream",
     "text": [
      "C:\\ProgramData\\Anaconda3\\lib\\site-packages\\sklearn\\utils\\validation.py:63: DataConversionWarning: A column-vector y was passed when a 1d array was expected. Please change the shape of y to (n_samples, ), for example using ravel().\n",
      "  return f(*args, **kwargs)\n"
     ]
    },
    {
     "data": {
      "text/plain": [
       "SVC(kernel='linear')"
      ]
     },
     "execution_count": 55,
     "metadata": {},
     "output_type": "execute_result"
    }
   ],
   "source": [
    "#Used support vector machine\n",
    "cv_classification = svm.SVC(kernel='linear')    #SVC = support vector classifier\n",
    "cv_classification.fit(x_train,y_train)"
   ]
  },
  {
   "cell_type": "code",
   "execution_count": 56,
   "id": "377c84a7",
   "metadata": {},
   "outputs": [],
   "source": [
    "y_pred_svm = cv_classification.predict(x_test)"
   ]
  },
  {
   "cell_type": "code",
   "execution_count": 57,
   "id": "4d5183e2",
   "metadata": {},
   "outputs": [
    {
     "name": "stdout",
     "output_type": "stream",
     "text": [
      "Accuracy of model is :  0.9727595736281089\n",
      "Correct and Incorrect input data :'\n",
      "' [[1258   24]\n",
      " [  45 1206]]\n"
     ]
    }
   ],
   "source": [
    "#Here we check the accuracy of model with the help of accuracy score and confusion metrix\n",
    "from sklearn.metrics import accuracy_score,confusion_matrix\n",
    "score_svm = accuracy_score(y_test,y_pred_svm)\n",
    "print('Accuracy of model is : ',score_svm)\n",
    "\n",
    "error_svm = confusion_matrix(y_test,y_pred_svm)\n",
    "print(\"Correct and Incorrect input data :'\\n'\", error_svm)"
   ]
  },
  {
   "cell_type": "code",
   "execution_count": 58,
   "id": "fa1eb720",
   "metadata": {},
   "outputs": [
    {
     "data": {
      "image/png": "[encoded data removed]",
      "text/plain": [
       "<Figure size 720x576 with 1 Axes>"
      ]
     },
     "metadata": {
      "needs_background": "light"
     },
     "output_type": "display_data"
    }
   ],
   "source": [
    "#visulation of the Acutal Target and Predicated target\n",
    "plt.figure(figsize=(10,8))\n",
    "plt.scatter(y_test,y_pred_svm,c='g',label='Support Vector Machine')\n",
    "plt.xlabel('Actual Target')\n",
    "plt.ylabel('Predicated Target')\n",
    "plt.title('Actual Target Vs Predicated Target')\n",
    "plt.legend()\n",
    "plt.show()"
   ]
  },
  {
   "cell_type": "markdown",
   "id": "f7a1f93b",
   "metadata": {},
   "source": [
    "# Decision Tree Classification Algorithm"
   ]
  },
  {
   "cell_type": "code",
   "execution_count": 59,
   "id": "0cbc33c2",
   "metadata": {},
   "outputs": [
    {
     "data": {
      "text/plain": [
       "DecisionTreeClassifier(criterion='entropy')"
      ]
     },
     "execution_count": 59,
     "metadata": {},
     "output_type": "execute_result"
    }
   ],
   "source": [
    "from sklearn.tree import DecisionTreeClassifier\n",
    "dt_classifier = DecisionTreeClassifier(criterion='entropy') # entropy = information gain\n",
    "dt_classifier.fit(x_train,y_train) "
   ]
  },
  {
   "cell_type": "code",
   "execution_count": 60,
   "id": "2baf9f19",
   "metadata": {},
   "outputs": [
    {
     "data": {
      "image/png": "[encoded data removed]",
      "text/plain": [
       "<Figure size 1080x864 with 1 Axes>"
      ]
     },
     "metadata": {
      "needs_background": "light"
     },
     "output_type": "display_data"
    }
   ],
   "source": [
    "from sklearn import tree\n",
    "fig = plt.figure(figsize=(15,12))\n",
    "x=tree.plot_tree(dt_classifier)"
   ]
  },
  {
   "cell_type": "code",
   "execution_count": 61,
   "id": "34ea4529",
   "metadata": {},
   "outputs": [],
   "source": [
    "y_pred_dt = dt_classifier.predict(x_test)"
   ]
  },
  {
   "cell_type": "code",
   "execution_count": 62,
   "id": "814d7a10",
   "metadata": {},
   "outputs": [
    {
     "name": "stdout",
     "output_type": "stream",
     "text": [
      "Accuracy of model is :  0.9423608369522306\n",
      "Correct and Incorrect input data :'\n",
      "' [[1235   47]\n",
      " [  99 1152]]\n"
     ]
    }
   ],
   "source": [
    "#Here we check the accuracy of model with the help of accuracy score and confusion metrix\n",
    "from sklearn.metrics import accuracy_score,confusion_matrix\n",
    "score_dt = accuracy_score(y_test,y_pred_dt)\n",
    "print('Accuracy of model is : ',score_dt)\n",
    "\n",
    "error_dt = confusion_matrix(y_test,y_pred_dt)\n",
    "print(\"Correct and Incorrect input data :'\\n'\", error_dt)"
   ]
  },
  {
   "cell_type": "code",
   "execution_count": 63,
   "id": "9bdea0f8",
   "metadata": {},
   "outputs": [
    {
     "data": {
      "image/png": "[encoded data removed]",
      "text/plain": [
       "<Figure size 720x576 with 1 Axes>"
      ]
     },
     "metadata": {
      "needs_background": "light"
     },
     "output_type": "display_data"
    }
   ],
   "source": [
    "#visulation of the Acutal Target and Predicated target\n",
    "plt.figure(figsize=(10,8))\n",
    "plt.scatter(y_test,y_pred_dt,c='c',label='Decision Tree Classification')\n",
    "plt.xlabel('Actual Target')\n",
    "plt.ylabel('Predicated Target')\n",
    "plt.title('Actual Target Vs Predicated Target')\n",
    "plt.legend()\n",
    "plt.show()"
   ]
  },
  {
   "cell_type": "markdown",
   "id": "6c03c95d",
   "metadata": {},
   "source": [
    "# Navie Bayer Classification Algorithm"
   ]
  },
  {
   "cell_type": "code",
   "execution_count": 64,
   "id": "99c2d448",
   "metadata": {},
   "outputs": [
    {
     "name": "stderr",
     "output_type": "stream",
     "text": [
      "C:\\ProgramData\\Anaconda3\\lib\\site-packages\\sklearn\\utils\\validation.py:63: DataConversionWarning: A column-vector y was passed when a 1d array was expected. Please change the shape of y to (n_samples, ), for example using ravel().\n",
      "  return f(*args, **kwargs)\n"
     ]
    },
    {
     "data": {
      "text/plain": [
       "GaussianNB()"
      ]
     },
     "execution_count": 64,
     "metadata": {},
     "output_type": "execute_result"
    }
   ],
   "source": [
    "from sklearn.naive_bayes import GaussianNB\n",
    "NBCA = GaussianNB()\n",
    "NBCA.fit(x_train,y_train)"
   ]
  },
  {
   "cell_type": "code",
   "execution_count": 65,
   "id": "59adc1c2",
   "metadata": {},
   "outputs": [],
   "source": [
    "y_pred_nb = NBCA.predict(x_test)"
   ]
  },
  {
   "cell_type": "code",
   "execution_count": 66,
   "id": "65a772b9",
   "metadata": {},
   "outputs": [
    {
     "name": "stdout",
     "output_type": "stream",
     "text": [
      "Accuracy of model is :  0.8823529411764706\n",
      "Correct and Incorrect input data :'\n",
      "' [[1152  130]\n",
      " [ 168 1083]]\n"
     ]
    }
   ],
   "source": [
    "#Here we check the accuracy of model with the help of accuracy score and confusion metrix\n",
    "from sklearn.metrics import accuracy_score,confusion_matrix\n",
    "score_nb = accuracy_score(y_test,y_pred_nb)\n",
    "print('Accuracy of model is : ',score_nb)\n",
    "\n",
    "error_nb = confusion_matrix(y_test,y_pred_nb)\n",
    "print(\"Correct and Incorrect input data :'\\n'\", error_nb)"
   ]
  },
  {
   "cell_type": "code",
   "execution_count": 67,
   "id": "241ed5a0",
   "metadata": {},
   "outputs": [
    {
     "data": {
      "image/png": "[encoded data removed]",
      "text/plain": [
       "<Figure size 720x576 with 1 Axes>"
      ]
     },
     "metadata": {
      "needs_background": "light"
     },
     "output_type": "display_data"
    }
   ],
   "source": [
    "#visulation of the Acutal Target and Predicated target\n",
    "plt.figure(figsize=(10,8))\n",
    "plt.scatter(y_test,y_pred_nb,c='r',label='Navie Bayer Classification')\n",
    "plt.xlabel('Actual Target')\n",
    "plt.ylabel('Predicated Target')\n",
    "plt.title('Actual Target Vs Predicated Target')\n",
    "plt.legend()\n",
    "plt.show()"
   ]
  },
  {
   "cell_type": "markdown",
   "id": "945a19a5",
   "metadata": {},
   "source": [
    "# Random Forest Classification Algorithm"
   ]
  },
  {
   "cell_type": "code",
   "execution_count": 68,
   "id": "6c62aa8a",
   "metadata": {},
   "outputs": [
    {
     "name": "stderr",
     "output_type": "stream",
     "text": [
      "C:\\Users\\vbkat\\AppData\\Local\\Temp/ipykernel_12484/1543761169.py:3: DataConversionWarning: A column-vector y was passed when a 1d array was expected. Please change the shape of y to (n_samples,), for example using ravel().\n",
      "  RFAClass.fit(x_train,y_train)\n",
      "C:\\Users\\vbkat\\AppData\\Local\\Temp/ipykernel_12484/1543761169.py:4: DataConversionWarning: A column-vector y was passed when a 1d array was expected. Please change the shape of y to (n_samples,), for example using ravel().\n",
      "  RFAClass.fit(x_train,y_train)\n"
     ]
    },
    {
     "data": {
      "text/plain": [
       "RandomForestClassifier(n_estimators=50)"
      ]
     },
     "execution_count": 68,
     "metadata": {},
     "output_type": "execute_result"
    }
   ],
   "source": [
    "from sklearn.ensemble import RandomForestClassifier\n",
    "RFAClass = RandomForestClassifier(n_estimators=50) #n_estimators less error maximum and more error less\n",
    "RFAClass.fit(x_train,y_train)\n",
    "RFAClass.fit(x_train,y_train)"
   ]
  },
  {
   "cell_type": "code",
   "execution_count": 69,
   "id": "d563525e",
   "metadata": {},
   "outputs": [],
   "source": [
    "y_pred_rf = RFAClass.predict(x_test)"
   ]
  },
  {
   "cell_type": "code",
   "execution_count": 70,
   "id": "82929102",
   "metadata": {},
   "outputs": [
    {
     "name": "stdout",
     "output_type": "stream",
     "text": [
      "Accuracy of model is :  0.9715752072641137\n",
      "Correct and Incorrect input data :'\n",
      "' [[1260   22]\n",
      " [  50 1201]]\n"
     ]
    }
   ],
   "source": [
    "#Here we check the accuracy of model with the help of accuracy score and confusion metrix\n",
    "from sklearn.metrics import accuracy_score,confusion_matrix\n",
    "score_rf = accuracy_score(y_test,y_pred_rf)\n",
    "print('Accuracy of model is : ',score_rf)\n",
    "\n",
    "error_rf = confusion_matrix(y_test,y_pred_rf)\n",
    "print(\"Correct and Incorrect input data :'\\n'\", error_rf)"
   ]
  },
  {
   "cell_type": "code",
   "execution_count": 71,
   "id": "771a41f6",
   "metadata": {},
   "outputs": [
    {
     "data": {
      "image/png": "[encoded data removed]",
      "text/plain": [
       "<Figure size 720x576 with 1 Axes>"
      ]
     },
     "metadata": {
      "needs_background": "light"
     },
     "output_type": "display_data"
    }
   ],
   "source": [
    "#visulation of the Acutal Target and Predicated target\n",
    "plt.figure(figsize=(10,8))\n",
    "plt.scatter(y_test,y_pred_rf,c='b',label='Random Forest Classification')\n",
    "plt.xlabel('Actual Target')\n",
    "plt.ylabel('Predicated Target')\n",
    "plt.title('Actual Target Vs Predicated Target')\n",
    "plt.legend()\n",
    "plt.show()"
   ]
  },
  {
   "cell_type": "markdown",
   "id": "9b11add9",
   "metadata": {},
   "source": [
    "# All Classification Type algorithm result\n"
   ]
  },
  {
   "cell_type": "code",
   "execution_count": 72,
   "id": "d2b1f84d",
   "metadata": {
    "scrolled": true
   },
   "outputs": [
    {
     "name": "stdout",
     "output_type": "stream",
     "text": [
      "Logistic Regression\n",
      "Accuracy of model is :  0.9723647848401106\n",
      "Correct and Incorrect input data :'\n",
      "' [[1251   31]\n",
      " [  39 1212]]\n",
      "\n",
      " KNN Classification\n",
      "Accuracy of model is :  0.9573628108961706\n",
      "Correct and Incorrect input data :'\n",
      "' [[1217   65]\n",
      " [  43 1208]]\n",
      "\n",
      " Support Vector Machine classification Algorithm\n",
      "Accuracy of model is :  0.9727595736281089\n",
      "Correct and Incorrect input data :'\n",
      "' [[1258   24]\n",
      " [  45 1206]]\n",
      "\n",
      " Decision Tree Classifcation Algorithm\n",
      "Accuracy of model is :  0.9423608369522306\n",
      "Correct and Incorrect input data :'\n",
      "' [[1235   47]\n",
      " [  99 1152]]\n",
      "\n",
      " Navie Bayes Classification Algorithms\n",
      "Accuracy of model is :  0.8823529411764706\n",
      "Correct and Incorrect input data :'\n",
      "' [[1152  130]\n",
      " [ 168 1083]]\n",
      "\n",
      " Random Forest classification Algorithm\n",
      "Accuracy of model is :  0.9715752072641137\n",
      "Correct and Incorrect input data :'\n",
      "' [[1260   22]\n",
      " [  50 1201]]\n"
     ]
    }
   ],
   "source": [
    "print('Logistic Regression')\n",
    "#Here we check the accuracy of model with the help of accuracy score and confusion metrix\n",
    "from sklearn.metrics import accuracy_score,confusion_matrix\n",
    "score_logi = accuracy_score(y_test,y_pred_logi)\n",
    "print('Accuracy of model is : ',score_logi)\n",
    "\n",
    "error_logi = confusion_matrix(y_test,y_pred_logi)\n",
    "print(\"Correct and Incorrect input data :'\\n'\", error_logi)\n",
    "\n",
    "\n",
    "print('\\n KNN Classification')\n",
    "#Here we check the accuracy of model with the help of accuracy score and confusion metrix\n",
    "from sklearn.metrics import accuracy_score,confusion_matrix\n",
    "score_knn = accuracy_score(y_test,y_pred_knn)\n",
    "print('Accuracy of model is : ',score_knn)\n",
    "\n",
    "error_knn = confusion_matrix(y_test,y_pred_knn)\n",
    "print(\"Correct and Incorrect input data :'\\n'\", error_knn)\n",
    "\n",
    "print('\\n Support Vector Machine classification Algorithm')\n",
    "#Here we check the accuracy of model with the help of accuracy score and confusion metrix\n",
    "from sklearn.metrics import accuracy_score,confusion_matrix\n",
    "score_svm = accuracy_score(y_test,y_pred_svm)\n",
    "print('Accuracy of model is : ',score_svm)\n",
    "\n",
    "error_svm = confusion_matrix(y_test,y_pred_svm)\n",
    "print(\"Correct and Incorrect input data :'\\n'\", error_svm)\n",
    "\n",
    "print('\\n Decision Tree Classifcation Algorithm')\n",
    "#Here we check the accuracy of model with the help of accuracy score and confusion metrix\n",
    "from sklearn.metrics import accuracy_score,confusion_matrix\n",
    "score_dt = accuracy_score(y_test,y_pred_dt)\n",
    "print('Accuracy of model is : ',score_dt)\n",
    "\n",
    "error_dt = confusion_matrix(y_test,y_pred_dt)\n",
    "print(\"Correct and Incorrect input data :'\\n'\", error_dt)\n",
    "      \n",
    "      \n",
    "\n",
    "print('\\n Navie Bayes Classification Algorithms')\n",
    "#Here we check the accuracy of model with the help of accuracy score and confusion metrix\n",
    "from sklearn.metrics import accuracy_score,confusion_matrix\n",
    "score_nb = accuracy_score(y_test,y_pred_nb)\n",
    "print('Accuracy of model is : ',score_nb)\n",
    "\n",
    "error_nb = confusion_matrix(y_test,y_pred_nb)\n",
    "print(\"Correct and Incorrect input data :'\\n'\", error_nb)\n",
    "      \n",
    "      \n",
    "print('\\n Random Forest classification Algorithm')\n",
    "#Here we check the accuracy of model with the help of accuracy score and confusion metrix\n",
    "from sklearn.metrics import accuracy_score,confusion_matrix\n",
    "score_rf = accuracy_score(y_test,y_pred_rf)\n",
    "print('Accuracy of model is : ',score_rf)\n",
    "\n",
    "error_rf = confusion_matrix(y_test,y_pred_rf)\n",
    "print(\"Correct and Incorrect input data :'\\n'\", error_rf)"
   ]
  },
  {
   "cell_type": "code",
   "execution_count": 73,
   "id": "89119013",
   "metadata": {},
   "outputs": [
    {
     "data": {
      "text/html": [
       "<div>\n",
       "<style scoped>\n",
       "    .dataframe tbody tr th:only-of-type {\n",
       "        vertical-align: middle;\n",
       "    }\n",
       "\n",
       "    .dataframe tbody tr th {\n",
       "        vertical-align: top;\n",
       "    }\n",
       "\n",
       "    .dataframe thead th {\n",
       "        text-align: right;\n",
       "    }\n",
       "</style>\n",
       "<table border=\"1\" class=\"dataframe\">\n",
       "  <thead>\n",
       "    <tr style=\"text-align: right;\">\n",
       "      <th></th>\n",
       "      <th>Algorithm_Name</th>\n",
       "      <th>Accuracy_Score</th>\n",
       "    </tr>\n",
       "  </thead>\n",
       "  <tbody>\n",
       "    <tr>\n",
       "      <th>0</th>\n",
       "      <td>Logistic Regression</td>\n",
       "      <td>0.972365</td>\n",
       "    </tr>\n",
       "    <tr>\n",
       "      <th>1</th>\n",
       "      <td>K-NN</td>\n",
       "      <td>0.957363</td>\n",
       "    </tr>\n",
       "    <tr>\n",
       "      <th>2</th>\n",
       "      <td>Support VM</td>\n",
       "      <td>0.972760</td>\n",
       "    </tr>\n",
       "    <tr>\n",
       "      <th>3</th>\n",
       "      <td>Decision Tree</td>\n",
       "      <td>0.942361</td>\n",
       "    </tr>\n",
       "    <tr>\n",
       "      <th>4</th>\n",
       "      <td>Navie Bayer</td>\n",
       "      <td>0.882353</td>\n",
       "    </tr>\n",
       "    <tr>\n",
       "      <th>5</th>\n",
       "      <td>Random Forest</td>\n",
       "      <td>0.971575</td>\n",
       "    </tr>\n",
       "  </tbody>\n",
       "</table>\n",
       "</div>"
      ],
      "text/plain": [
       "        Algorithm_Name  Accuracy_Score\n",
       "0  Logistic Regression        0.972365\n",
       "1                 K-NN        0.957363\n",
       "2           Support VM        0.972760\n",
       "3        Decision Tree        0.942361\n",
       "4          Navie Bayer        0.882353\n",
       "5        Random Forest        0.971575"
      ]
     },
     "execution_count": 73,
     "metadata": {},
     "output_type": "execute_result"
    }
   ],
   "source": [
    "Algorithm = ['Logistic Regression','K-NN','Support VM','Decision Tree','Navie Bayer','Random Forest']\n",
    "score = [score_logi,score_knn,score_svm,score_dt,score_nb,score_rf]\n",
    "df_plot = pd.DataFrame(Algorithm,columns=['Algorithm_Name'])\n",
    "df_plot['Accuracy_Score']=score\n",
    "df_plot"
   ]
  },
  {
   "cell_type": "code",
   "execution_count": 74,
   "id": "50c135e1",
   "metadata": {},
   "outputs": [
    {
     "name": "stderr",
     "output_type": "stream",
     "text": [
      "C:\\ProgramData\\Anaconda3\\lib\\site-packages\\seaborn\\_decorators.py:36: FutureWarning: Pass the following variables as keyword args: x, y. From version 0.12, the only valid positional argument will be `data`, and passing other arguments without an explicit keyword will result in an error or misinterpretation.\n",
      "  warnings.warn(\n",
      "No handles with labels found to put in legend.\n"
     ]
    },
    {
     "data": {
      "text/plain": [
       "<matplotlib.legend.Legend at 0x1739f27bac0>"
      ]
     },
     "execution_count": 74,
     "metadata": {},
     "output_type": "execute_result"
    },
    {
     "data": {
      "image/png": "[encoded data removed]",
      "text/plain": [
       "<Figure size 864x576 with 1 Axes>"
      ]
     },
     "metadata": {
      "needs_background": "light"
     },
     "output_type": "display_data"
    }
   ],
   "source": [
    "plt.figure(figsize=(12,8))\n",
    "sns.barplot(df_plot.Algorithm_Name,df_plot.Accuracy_Score)\n",
    "plt.xlabel('Algorithm Names')\n",
    "plt.ylabel('Accuracy score')\n",
    "plt.title('Accuracy Score of All Classification Algorithm')\n",
    "plt.legend()"
   ]
  },
  {
   "cell_type": "code",
   "execution_count": 75,
   "id": "60502bb8",
   "metadata": {},
   "outputs": [
    {
     "data": {
      "image/png": "[encoded data removed]",
      "text/plain": [
       "<Figure size 720x576 with 1 Axes>"
      ]
     },
     "metadata": {
      "needs_background": "light"
     },
     "output_type": "display_data"
    }
   ],
   "source": [
    "#visulation of the Acutal Target and Predicated target\n",
    "plt.figure(figsize=(10,8))\n",
    "plt.scatter(y_test,y_pred_logi,c='y',label='logistic Regression')\n",
    "plt.scatter(y_test,y_pred_knn,c='k',label='KNN Algorithm')\n",
    "plt.scatter(y_test,y_pred_svm,c='g',label='Support Vector Machine')\n",
    "plt.scatter(y_test,y_pred_dt,c='c',label='Decision Tree Classification')\n",
    "plt.scatter(y_test,y_pred_nb,c='r',label='Navie Bayer Classification')\n",
    "plt.scatter(y_test,y_pred_rf,c='b',label='Random Forest Classification')\n",
    "plt.xlabel('Actual Target')\n",
    "plt.ylabel('Predicated Target')\n",
    "plt.title('Actual Target Vs Predicated Target')\n",
    "plt.legend()\n",
    "plt.show()"
   ]
  },
  {
   "cell_type": "code",
   "execution_count": null,
   "id": "f1d619ae",
   "metadata": {},
   "outputs": [],
   "source": []
  }
 ],
 "metadata": {
  "kernelspec": {
   "display_name": "Python 3 (ipykernel)",
   "language": "python",
   "name": "python3"
  },
  "language_info": {
   "codemirror_mode": {
    "name": "ipython",
    "version": 3
   },
   "file_extension": ".py",
   "mimetype": "text/x-python",
   "name": "python",
   "nbconvert_exporter": "python",
   "pygments_lexer": "ipython3",
   "version": "3.9.7"
  }
 },
 "nbformat": 4,
 "nbformat_minor": 5
}
